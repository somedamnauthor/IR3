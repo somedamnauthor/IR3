{
 "cells": [
  {
   "cell_type": "markdown",
   "id": "def3c69a",
   "metadata": {},
   "source": [
    "# Setup"
   ]
  },
  {
   "cell_type": "markdown",
   "id": "bb211fb8",
   "metadata": {},
   "source": [
    "### Acquire Data and Queries"
   ]
  },
  {
   "cell_type": "code",
   "execution_count": 1,
   "id": "9307c3b0",
   "metadata": {},
   "outputs": [],
   "source": [
    "#Load dataset\n",
    "# pip install ir_datasets\n",
    "import ir_datasets\n",
    "dataset = ir_datasets.load(\"clinicaltrials/2021\")"
   ]
  },
  {
   "cell_type": "code",
   "execution_count": 142,
   "id": "19406948",
   "metadata": {},
   "outputs": [],
   "source": [
    "#Test if dataset is loaded\n",
    "# for doc in dataset.docs_iter():\n",
    "#     print(doc) # namedtuple<doc_id, title, condition, summary, detailed_description, eligibility>\n",
    "#     break"
   ]
  },
  {
   "cell_type": "code",
   "execution_count": 1,
   "id": "b239cb64",
   "metadata": {},
   "outputs": [],
   "source": [
    "#Load queries into a df\n",
    "import pandas as pd\n",
    "queries = pd.read_csv('queries_2021.tsv', sep='\\t', header=None)\n",
    "queries.columns = ['id', 'query']"
   ]
  },
  {
   "cell_type": "markdown",
   "id": "d30cdb64",
   "metadata": {},
   "source": [
    "### Install ES package, connect to ES service"
   ]
  },
  {
   "cell_type": "code",
   "execution_count": 5,
   "id": "4c1b6f16",
   "metadata": {},
   "outputs": [],
   "source": [
    "# !pip install elasticsearch==7.9.1"
   ]
  },
  {
   "cell_type": "code",
   "execution_count": 2,
   "id": "2da8d086",
   "metadata": {},
   "outputs": [],
   "source": [
    "from elasticsearch import Elasticsearch\n",
    "es = Elasticsearch(HOST='http://localhost', PORT='9200')"
   ]
  },
  {
   "cell_type": "markdown",
   "id": "c563838b",
   "metadata": {},
   "source": [
    "# Load Data into ElasticSearch"
   ]
  },
  {
   "cell_type": "code",
   "execution_count": 3,
   "id": "caada740",
   "metadata": {},
   "outputs": [],
   "source": [
    "#define mapping to store data\n",
    "mapping = {\n",
    "    \"settings\":\n",
    "    {\n",
    "        \"index\":\n",
    "        {\n",
    "            \"number_of_shards\":1,\n",
    "            \"number_of_replicas\":1\n",
    "        }\n",
    "    },\n",
    "    \"mappings\":\n",
    "    {\n",
    "        \"properties\":\n",
    "        {\n",
    "            \"content\":\n",
    "            {\n",
    "                \"type\":\"text\",\n",
    "                \"fielddata\":True,\n",
    "                \"term_vector\":\"with_positions_offsets_payloads\",\n",
    "                \"store\":True,\n",
    "                \"analyzer\":\"whitespace\"\n",
    "            }\n",
    "        }\n",
    "    }\n",
    "}\n"
   ]
  },
  {
   "cell_type": "code",
   "execution_count": 19,
   "id": "ec458f06",
   "metadata": {},
   "outputs": [
    {
     "name": "stdout",
     "output_type": "stream",
     "text": [
      "Create Index Response: {'acknowledged': True, 'shards_acknowledged': True, 'index': 'ir3'}\n"
     ]
    }
   ],
   "source": [
    "#Delete any previously created index named 'ir3'\n",
    "es.indices.delete(index='ir3', ignore=[404, 400])\n",
    "\n",
    "#Create index with the mapping defined\n",
    "response_createIndex = es.indices.create(index='ir3', body=mapping)\n",
    "print(\"Create Index Response:\", response_createIndex)"
   ]
  },
  {
   "cell_type": "code",
   "execution_count": 24,
   "id": "518e4013",
   "metadata": {},
   "outputs": [],
   "source": [
    "#Load data into the index\n",
    "\n",
    "id = 0\n",
    "for doc in dataset.docs_iter():\n",
    "    es.index('ir3', id=id, body=doc)\n",
    "    id+=1"
   ]
  },
  {
   "cell_type": "code",
   "execution_count": 3,
   "id": "8677c300",
   "metadata": {},
   "outputs": [
    {
     "data": {
      "text/plain": [
       "{'_index': 'ir3',\n",
       " '_type': '_doc',\n",
       " '_id': '0',\n",
       " '_version': 1,\n",
       " '_seq_no': 1,\n",
       " '_primary_term': 1,\n",
       " 'found': True,\n",
       " '_source': {'doc_id': 'NCT00000102',\n",
       "  'title': 'Congenital Adrenal Hyperplasia: Calcium Channels as Therapeutic Targets',\n",
       "  'condition': '',\n",
       "  'summary': '\\n    \\n      This study will test the ability of extended release nifedipine (Procardia XL), a blood\\r\\n      pressure medication, to permit a decrease in the dose of glucocorticoid medication children\\r\\n      take to treat congenital adrenal hyperplasia (CAH).\\r\\n    \\n  ',\n",
       "  'detailed_description': '\\n    \\n      This protocol is designed to assess both acute and chronic effects of the calcium channel\\r\\n      antagonist, nifedipine, on the hypothalamic-pituitary-adrenal axis in patients with\\r\\n      congenital adrenal hyperplasia. The multicenter trial is composed of two phases and will\\r\\n      involve a double-blind, placebo-controlled parallel design. The goal of Phase I is to examine\\r\\n      the ability of nifedipine vs. placebo to decrease adrenocorticotropic hormone (ACTH) levels,\\r\\n      as well as to begin to assess the dose-dependency of nifedipine effects. The goal of Phase II\\r\\n      is to evaluate the long-term effects of nifedipine; that is, can attenuation of ACTH release\\r\\n      by nifedipine permit a decrease in the dosage of glucocorticoid needed to suppress the HPA\\r\\n      axis? Such a decrease would, in turn, reduce the deleterious effects of glucocorticoid\\r\\n      treatment in CAH.\\r\\n    \\n  ',\n",
       "  'eligibility': '\\n      \\n        Inclusion Criteria:\\r\\n\\r\\n          -  diagnosed with Congenital Adrenal Hyperplasia (CAH)\\r\\n\\r\\n          -  normal ECG during baseline evaluation\\r\\n\\r\\n        Exclusion Criteria:\\r\\n\\r\\n          -  history of liver disease, or elevated liver function tests\\r\\n\\r\\n          -  history of cardiovascular disease\\r\\n      \\n    '}}"
      ]
     },
     "execution_count": 3,
     "metadata": {},
     "output_type": "execute_result"
    }
   ],
   "source": [
    "#Test if the load worked\n",
    "resp = es.get(index='ir3', id=0)\n",
    "resp"
   ]
  },
  {
   "cell_type": "markdown",
   "id": "914037d7",
   "metadata": {},
   "source": [
    "# Run Queries"
   ]
  },
  {
   "cell_type": "code",
   "execution_count": 4,
   "id": "0bf84ba6",
   "metadata": {},
   "outputs": [
    {
     "data": {
      "text/html": [
       "<div>\n",
       "<style scoped>\n",
       "    .dataframe tbody tr th:only-of-type {\n",
       "        vertical-align: middle;\n",
       "    }\n",
       "\n",
       "    .dataframe tbody tr th {\n",
       "        vertical-align: top;\n",
       "    }\n",
       "\n",
       "    .dataframe thead th {\n",
       "        text-align: right;\n",
       "    }\n",
       "</style>\n",
       "<table border=\"1\" class=\"dataframe\">\n",
       "  <thead>\n",
       "    <tr style=\"text-align: right;\">\n",
       "      <th></th>\n",
       "      <th>id</th>\n",
       "      <th>query</th>\n",
       "    </tr>\n",
       "  </thead>\n",
       "  <tbody>\n",
       "    <tr>\n",
       "      <th>0</th>\n",
       "      <td>1</td>\n",
       "      <td>Patient is a 45-year-old man with a history of...</td>\n",
       "    </tr>\n",
       "    <tr>\n",
       "      <th>1</th>\n",
       "      <td>2</td>\n",
       "      <td>48 M with a h/o HTN hyperlipidemia, bicuspid a...</td>\n",
       "    </tr>\n",
       "    <tr>\n",
       "      <th>2</th>\n",
       "      <td>3</td>\n",
       "      <td>A 32 yo woman who presents following a severe ...</td>\n",
       "    </tr>\n",
       "    <tr>\n",
       "      <th>3</th>\n",
       "      <td>4</td>\n",
       "      <td>This is a 44 year old female with PMH of PCOS,...</td>\n",
       "    </tr>\n",
       "    <tr>\n",
       "      <th>4</th>\n",
       "      <td>5</td>\n",
       "      <td>74M hx of CAD s/p CABG, EF 60% prior CVA (no r...</td>\n",
       "    </tr>\n",
       "    <tr>\n",
       "      <th>...</th>\n",
       "      <td>...</td>\n",
       "      <td>...</td>\n",
       "    </tr>\n",
       "    <tr>\n",
       "      <th>70</th>\n",
       "      <td>71</td>\n",
       "      <td>The patient is a 34-year-old obese woman who c...</td>\n",
       "    </tr>\n",
       "    <tr>\n",
       "      <th>71</th>\n",
       "      <td>72</td>\n",
       "      <td>The patient is a 16-year-old girl recently dia...</td>\n",
       "    </tr>\n",
       "    <tr>\n",
       "      <th>72</th>\n",
       "      <td>73</td>\n",
       "      <td>The patient is a 3-day-old female infant with ...</td>\n",
       "    </tr>\n",
       "    <tr>\n",
       "      <th>73</th>\n",
       "      <td>74</td>\n",
       "      <td>The patient is a 53-year-old man complaining o...</td>\n",
       "    </tr>\n",
       "    <tr>\n",
       "      <th>74</th>\n",
       "      <td>75</td>\n",
       "      <td>The patient is a 55-year-old man who was recen...</td>\n",
       "    </tr>\n",
       "  </tbody>\n",
       "</table>\n",
       "<p>75 rows × 2 columns</p>\n",
       "</div>"
      ],
      "text/plain": [
       "    id                                              query\n",
       "0    1  Patient is a 45-year-old man with a history of...\n",
       "1    2  48 M with a h/o HTN hyperlipidemia, bicuspid a...\n",
       "2    3  A 32 yo woman who presents following a severe ...\n",
       "3    4  This is a 44 year old female with PMH of PCOS,...\n",
       "4    5  74M hx of CAD s/p CABG, EF 60% prior CVA (no r...\n",
       "..  ..                                                ...\n",
       "70  71  The patient is a 34-year-old obese woman who c...\n",
       "71  72  The patient is a 16-year-old girl recently dia...\n",
       "72  73  The patient is a 3-day-old female infant with ...\n",
       "73  74  The patient is a 53-year-old man complaining o...\n",
       "74  75  The patient is a 55-year-old man who was recen...\n",
       "\n",
       "[75 rows x 2 columns]"
      ]
     },
     "execution_count": 4,
     "metadata": {},
     "output_type": "execute_result"
    }
   ],
   "source": [
    "#Check queries df\n",
    "queries"
   ]
  },
  {
   "cell_type": "markdown",
   "id": "5a3b65ae",
   "metadata": {},
   "source": [
    "### Check example query on ES"
   ]
  },
  {
   "cell_type": "code",
   "execution_count": 5,
   "id": "c670ba46",
   "metadata": {},
   "outputs": [
    {
     "data": {
      "text/plain": [
       "'Patient is a 45-year-old man with a history of anaplastic astrocytoma of the spine complicated by severe lower extremity weakness and urinary retention s/p Foley catheter, high-dose steroids, hypertension, and chronic pain. The tumor is located in the T-L spine, unresectable anaplastic astrocytoma s/p radiation. Complicated by progressive lower extremity weakness and urinary retention. Patient initially presented with RLE weakness where his right knee gave out with difficulty walking and right anterior thigh numbness. MRI showed a spinal cord conus mass which was biopsied and found to be anaplastic astrocytoma. Therapy included field radiation t10-l1 followed by 11 cycles of temozolomide 7 days on and 7 days off. This was followed by CPT-11 Weekly x4 with Avastin Q2 weeks/ 2 weeks rest and repeat cycle.'"
      ]
     },
     "execution_count": 5,
     "metadata": {},
     "output_type": "execute_result"
    }
   ],
   "source": [
    "qtext = queries['query'][0]\n",
    "qtext"
   ]
  },
  {
   "cell_type": "code",
   "execution_count": 6,
   "id": "c33ffb6c",
   "metadata": {
    "scrolled": true
   },
   "outputs": [],
   "source": [
    "#For the query above, this prints the document ID and the score of all the 10000 hits\n",
    "\n",
    "qtext = queries['query'][0]\n",
    "\n",
    "ex_query ={\n",
    "\"size\": 10000,\n",
    "\"query\": {\n",
    "\"bool\": {\n",
    "\"should\": [\n",
    "{\"match\": {\"detailed_description\": qtext}}\n",
    "]\n",
    ",\"minimum_should_match\": 1,\n",
    "\"boost\": 1.0\n",
    "}\n",
    "}\n",
    "}\n",
    "\n",
    "resp = es.search(index='ir3', body = ex_query)\n",
    "\n",
    "r = resp['hits']['hits']\n",
    "# for hit in r:\n",
    "#     print(hit['_id'], hit['_score'])"
   ]
  },
  {
   "cell_type": "markdown",
   "id": "2af01ffd",
   "metadata": {},
   "source": [
    "##### Note: \n",
    "For the query above, we are specifically querying only the 'detailed_description' field of each document in the dataset. Check if this is correct. Should we also query the 'summary' field? "
   ]
  },
  {
   "cell_type": "code",
   "execution_count": 7,
   "id": "b3575708",
   "metadata": {},
   "outputs": [
    {
     "data": {
      "text/plain": [
       "{'_index': 'ir3',\n",
       " '_type': '_doc',\n",
       " '_id': '2747',\n",
       " '_score': 121.18297,\n",
       " '_source': {'doc_id': 'NCT00003176',\n",
       "  'title': 'Temozolomide and Carmustine in Treating Patients With Anaplastic Glioma',\n",
       "  'condition': '',\n",
       "  'summary': '\\n    \\n      RATIONALE: Drugs used in chemotherapy use different ways to stop tumor cells from dividing so\\r\\n      they stop growing or die. Combining more than one drug may kill more tumor cells.\\r\\n\\r\\n      PURPOSE: Phase II trial to study the effectiveness of temozolomide and carmustine in treating\\r\\n      patients with anaplastic glioma.\\r\\n    \\n  ',\n",
       "  'detailed_description': \"\\n    \\n      OBJECTIVES: I. Evaluate the activity, measured in terms of progression free survival, of\\r\\n      carmustine plus temozolomide in recurrent glioblastoma. II. Estimate the response rate of\\r\\n      recurrent glioblastomas to this combination. III. Estimate the response rate of newly\\r\\n      diagnosed anaplastic astrocytomas and mixed anaplastic glioma to this combination. IV.\\r\\n      Evaluate the qualitative and quantitative toxicities of this combination in patients with\\r\\n      anaplastic gliomas.\\r\\n\\r\\n      OUTLINE: This is a nonrandomized study. Patients are stratified by disease (recurrent\\r\\n      glioblastoma vs anaplastic astrocytoma or mixed anaplastic glioma). Patients receive\\r\\n      carmustine intravenously on day 1 two hours prior to temozolomide. Temozolomide is\\r\\n      administered orally on day 1. Cycles repeat every 42 days. Treatment for patients with\\r\\n      recurrent glioblastoma may continue for 8 cycles in the absence of disease progression or\\r\\n      unacceptable toxicity. If there is no disease progression after 8 cycles, treatment may\\r\\n      continue further at the investigator's discretion. Patients with anaplastic astrocytoma or\\r\\n      mixed anaplastic glioma continue for 4 cycles of treatment. Patients are followed\\r\\n      periodically at the investigator's discretion, at least twice in the first 4 months, and then\\r\\n      until death.\\r\\n\\r\\n      PROJECTED ACCRUAL: A minimum of 17 patients and a maximum of 37 patients will be accrued in\\r\\n      the recurrent glioblastoma stratum and 45 patients will be accrued into the anaplastic\\r\\n      astrocytoma and mixed anaplastic glioma stratum.\\r\\n    \\n  \",\n",
       "  'eligibility': \"\\n      \\n        DISEASE CHARACTERISTICS: Histologically confirmed malignant glioma - Recurrent glioblastoma\\r\\n        - Anaplastic astrocytoma - Mixed anaplastic glioma For recurrent glioblastoma: Required\\r\\n        documented progression must include an increase in tumor size of at least 25% or appearance\\r\\n        of new lesion For anaplastic astrocytoma or mixed anaplastic glioma: Must have measurable,\\r\\n        contrast enhancing disease on postoperative CT or MRI scan No postoperative radiation or\\r\\n        chemotherapy If patients have received prior brachytherapy or stereotactic radiosurgery,\\r\\n        they must have confirmation of true progressive disease rather than radiation necrosis by\\r\\n        PET scanning or biopsy\\r\\n\\r\\n        PATIENT CHARACTERISTICS: Age: 18 and over Performance status: Karnofsky 60-100% Life\\r\\n        expectancy: Not specified Hematopoietic: WBC at least 3,500/mm3 Absolute neutrophil count\\r\\n        at least 1,800/mm3 Platelet count at least 125,000/mm3 Hemoglobin at least 9 g/dL\\r\\n        (transfusion allowed) Hepatic: Bilirubin less than 1.5 mg/dL SGOT less than 2.0 times upper\\r\\n        limit of normal Renal: Creatinine less than 1.5 mg/dL OR Creatinine clearance greater than\\r\\n        70 mL/min Cardiovascular: No uncontrolled arrhythmias or conduction defects No unstable or\\r\\n        newly diagnosed angina pectoris No New York Heart Association class II-IV heart disease No\\r\\n        congestive heart failure No major problems with edema (e.g., severe Cushing's syndrome,\\r\\n        residual leg swelling from deep-vein thrombosis) No recent coronary artery disease No\\r\\n        poorly controlled hypertension (diastolic greater than 110 mmHg and systolic greater than\\r\\n        180 mmHg) Pulmonary: DLCO greater than 80% of expected value Other: HIV negative No major\\r\\n        psychiatric illness No other prior malignancy except adequately treated basal cell or\\r\\n        squamous cell skin cancer, in situ cervical cancer, adequately treated stage I or II cancer\\r\\n        from which the patient is currently in complete remission, or any other cancer from which\\r\\n        the patient has been free of disease for 5 years Not pregnant or nursing Adequate\\r\\n        contraception required of all fertile patients\\r\\n\\r\\n        PRIOR CONCURRENT THERAPY: Biologic therapy: No concurrent biologic therapy Chemotherapy: No\\r\\n        prior nitrosourea or temozolomide No more than 1 prior chemotherapy regimen allowed for\\r\\n        patients with glioblastoma At least 6 weeks since mitomycin or procarbazine and recovered\\r\\n        At least 4 weeks since other prior chemotherapy and recovered No other concurrent\\r\\n        chemotherapy Endocrine therapy: If receiving steroids, must be on a stable steroid dose for\\r\\n        at least 72 hours prior to study No other concurrent endocrine therapy Radiotherapy: At\\r\\n        least 6 weeks since radiotherapy No greater than 10-20% of marrow irradiated in prior\\r\\n        radiotherapy No other concurrent radiotherapy Surgery: Surgery allowed\\r\\n      \\n    \"}}"
      ]
     },
     "execution_count": 7,
     "metadata": {},
     "output_type": "execute_result"
    }
   ],
   "source": [
    "#Print just the first hit (out of 10000) for the example query\n",
    "r[0]"
   ]
  },
  {
   "cell_type": "code",
   "execution_count": 226,
   "id": "26d1c36c",
   "metadata": {},
   "outputs": [
    {
     "data": {
      "text/plain": [
       "10000"
      ]
     },
     "execution_count": 226,
     "metadata": {},
     "output_type": "execute_result"
    }
   ],
   "source": [
    "len(resp['hits']['hits'])"
   ]
  },
  {
   "cell_type": "code",
   "execution_count": 227,
   "id": "9561500b",
   "metadata": {},
   "outputs": [
    {
     "data": {
      "text/plain": [
       "list"
      ]
     },
     "execution_count": 227,
     "metadata": {},
     "output_type": "execute_result"
    }
   ],
   "source": [
    "type(resp['hits']['hits'])"
   ]
  },
  {
   "cell_type": "markdown",
   "id": "72098cdc",
   "metadata": {},
   "source": [
    "### Run all queries"
   ]
  },
  {
   "cell_type": "code",
   "execution_count": 27,
   "id": "c0f66c46",
   "metadata": {},
   "outputs": [
    {
     "name": "stdout",
     "output_type": "stream",
     "text": [
      "Query  0  got 10000 Hits\n",
      "Query  1  got 10000 Hits\n",
      "Query  2  got 10000 Hits\n",
      "Query  3  got 10000 Hits\n",
      "Query  4  got 10000 Hits\n",
      "Query  5  got 10000 Hits\n",
      "Query  6  got 10000 Hits\n",
      "Query  7  got 10000 Hits\n",
      "Query  8  got 10000 Hits\n",
      "Query  9  got 10000 Hits\n",
      "Query  10  got 10000 Hits\n",
      "Query  11  got 10000 Hits\n",
      "Query  12  got 10000 Hits\n",
      "Query  13  got 10000 Hits\n",
      "Query  14  got 10000 Hits\n",
      "Query  15  got 10000 Hits\n",
      "Query  16  got 10000 Hits\n",
      "Query  17  got 10000 Hits\n",
      "Query  18  got 10000 Hits\n",
      "Query  19  got 10000 Hits\n",
      "Query  20  got 10000 Hits\n",
      "Query  21  got 10000 Hits\n",
      "Query  22  got 10000 Hits\n",
      "Query  23  got 10000 Hits\n",
      "Query  24  got 10000 Hits\n",
      "Query  25  got 10000 Hits\n",
      "Query  26  got 10000 Hits\n",
      "Query  27  got 10000 Hits\n",
      "Query  28  got 10000 Hits\n",
      "Query  29  got 10000 Hits\n",
      "Query  30  got 10000 Hits\n",
      "Query  31  got 10000 Hits\n",
      "Query  32  got 10000 Hits\n",
      "Query  33  got 10000 Hits\n",
      "Query  34  got 10000 Hits\n",
      "Query  35  got 10000 Hits\n",
      "Query  36  got 10000 Hits\n",
      "Query  37  got 10000 Hits\n",
      "Query  38  got 10000 Hits\n",
      "Query  39  got 10000 Hits\n",
      "Query  40  got 10000 Hits\n",
      "Query  41  got 10000 Hits\n",
      "Query  42  got 10000 Hits\n",
      "Query  43  got 10000 Hits\n",
      "Query  44  got 10000 Hits\n",
      "Query  45  got 10000 Hits\n",
      "Query  46  got 10000 Hits\n",
      "Query  47  got 10000 Hits\n",
      "Query  48  got 10000 Hits\n",
      "Query  49  got 10000 Hits\n",
      "Query  50  got 10000 Hits\n",
      "Query  51  got 10000 Hits\n",
      "Query  52  got 10000 Hits\n",
      "Query  53  got 10000 Hits\n",
      "Query  54  got 10000 Hits\n",
      "Query  55  got 10000 Hits\n",
      "Query  56  got 10000 Hits\n",
      "Query  57  got 10000 Hits\n",
      "Query  58  got 10000 Hits\n",
      "Query  59  got 10000 Hits\n",
      "Query  60  got 10000 Hits\n",
      "Query  61  got 10000 Hits\n",
      "Query  62  got 10000 Hits\n",
      "Query  63  got 10000 Hits\n",
      "Query  64  got 10000 Hits\n",
      "Query  65  got 10000 Hits\n",
      "Query  66  got 10000 Hits\n",
      "Query  67  got 10000 Hits\n",
      "Query  68  got 10000 Hits\n",
      "Query  69  got 10000 Hits\n",
      "Query  70  got 10000 Hits\n",
      "Query  71  got 10000 Hits\n",
      "Query  72  got 10000 Hits\n",
      "Query  73  got 10000 Hits\n",
      "Query  74  got 10000 Hits\n"
     ]
    }
   ],
   "source": [
    "for id in range(75):\n",
    "    \n",
    "    #List of pairs of document ID and score\n",
    "    hits_list = []\n",
    "    \n",
    "    #Initialize query - 75 in total\n",
    "    query_text = queries['query'][id]\n",
    "    \n",
    "    #Wrap query inside specific format\n",
    "    bool_query = {\n",
    "        \"size\": 10000,\n",
    "        \"query\": \n",
    "        {\n",
    "            \"bool\": \n",
    "            {\n",
    "                \"should\": \n",
    "                [\n",
    "                    {\n",
    "                        \"match\": \n",
    "                        {\n",
    "                            \"detailed_description\": query_text\n",
    "                        }\n",
    "                    }\n",
    "                ],\n",
    "                \"minimum_should_match\": 1,\n",
    "                \"boost\": 1.0\n",
    "            }\n",
    "        }\n",
    "    }\n",
    "    \n",
    "    #Hit ES\n",
    "    resp = es.search(index='ir3', body=bool_query)\n",
    "    print(\"Query \",id,\" got %d Hits\" % resp['hits']['total']['value'])\n",
    "    \n",
    "    #Store only the part of the response that holds relevant info about hits\n",
    "    hits = resp['hits']['hits']\n",
    "    \n",
    "    #Store only the docID and the scores\n",
    "    for hit in hits:\n",
    "        hits_list.append([hit['_id'], hit['_score']])\n",
    "        \n",
    "    #Write output onto file named as the ID of the query\n",
    "    hits_file_name = 'ES_outputs/'+str(id)+'.csv'\n",
    "    hits_file = open(hits_file_name, 'w')\n",
    "    for row in hits_list:\n",
    "        hits_file.write(row[0]+','+ str(row[1])+'\\n')"
   ]
  },
  {
   "cell_type": "code",
   "execution_count": 32,
   "id": "6a20e185",
   "metadata": {},
   "outputs": [
    {
     "data": {
      "text/html": [
       "<div>\n",
       "<style scoped>\n",
       "    .dataframe tbody tr th:only-of-type {\n",
       "        vertical-align: middle;\n",
       "    }\n",
       "\n",
       "    .dataframe tbody tr th {\n",
       "        vertical-align: top;\n",
       "    }\n",
       "\n",
       "    .dataframe thead th {\n",
       "        text-align: right;\n",
       "    }\n",
       "</style>\n",
       "<table border=\"1\" class=\"dataframe\">\n",
       "  <thead>\n",
       "    <tr style=\"text-align: right;\">\n",
       "      <th></th>\n",
       "      <th>0</th>\n",
       "      <th>1</th>\n",
       "    </tr>\n",
       "  </thead>\n",
       "  <tbody>\n",
       "    <tr>\n",
       "      <th>0</th>\n",
       "      <td>186624</td>\n",
       "      <td>124.377304</td>\n",
       "    </tr>\n",
       "    <tr>\n",
       "      <th>1</th>\n",
       "      <td>197815</td>\n",
       "      <td>118.727760</td>\n",
       "    </tr>\n",
       "    <tr>\n",
       "      <th>2</th>\n",
       "      <td>265040</td>\n",
       "      <td>117.103160</td>\n",
       "    </tr>\n",
       "    <tr>\n",
       "      <th>3</th>\n",
       "      <td>162790</td>\n",
       "      <td>113.149770</td>\n",
       "    </tr>\n",
       "    <tr>\n",
       "      <th>4</th>\n",
       "      <td>145249</td>\n",
       "      <td>113.108060</td>\n",
       "    </tr>\n",
       "    <tr>\n",
       "      <th>...</th>\n",
       "      <td>...</td>\n",
       "      <td>...</td>\n",
       "    </tr>\n",
       "    <tr>\n",
       "      <th>9995</th>\n",
       "      <td>62943</td>\n",
       "      <td>44.418755</td>\n",
       "    </tr>\n",
       "    <tr>\n",
       "      <th>9996</th>\n",
       "      <td>16011</td>\n",
       "      <td>44.418575</td>\n",
       "    </tr>\n",
       "    <tr>\n",
       "      <th>9997</th>\n",
       "      <td>93361</td>\n",
       "      <td>44.417557</td>\n",
       "    </tr>\n",
       "    <tr>\n",
       "      <th>9998</th>\n",
       "      <td>270166</td>\n",
       "      <td>44.417347</td>\n",
       "    </tr>\n",
       "    <tr>\n",
       "      <th>9999</th>\n",
       "      <td>80315</td>\n",
       "      <td>44.416700</td>\n",
       "    </tr>\n",
       "  </tbody>\n",
       "</table>\n",
       "<p>10000 rows × 2 columns</p>\n",
       "</div>"
      ],
      "text/plain": [
       "           0           1\n",
       "0     186624  124.377304\n",
       "1     197815  118.727760\n",
       "2     265040  117.103160\n",
       "3     162790  113.149770\n",
       "4     145249  113.108060\n",
       "...      ...         ...\n",
       "9995   62943   44.418755\n",
       "9996   16011   44.418575\n",
       "9997   93361   44.417557\n",
       "9998  270166   44.417347\n",
       "9999   80315   44.416700\n",
       "\n",
       "[10000 rows x 2 columns]"
      ]
     },
     "execution_count": 32,
     "metadata": {},
     "output_type": "execute_result"
    }
   ],
   "source": [
    "#Sample line of code to retrieve stored file\n",
    "hits_df = pd.read_csv('ES_outputs/2.csv', sep=',', header=None)\n",
    "hits_df"
   ]
  }
 ],
 "metadata": {
  "kernelspec": {
   "display_name": "Python 3.8.10 64-bit",
   "language": "python",
   "name": "python3810jvsc74a57bd0916dbcbb3f70747c44a77c7bcd40155683ae19c65e1c03b4aa3499c5328201f1"
  },
  "language_info": {
   "codemirror_mode": {
    "name": "ipython",
    "version": 3
   },
   "file_extension": ".py",
   "mimetype": "text/x-python",
   "name": "python",
   "nbconvert_exporter": "python",
   "pygments_lexer": "ipython3",
   "version": "3.8.10"
  }
 },
 "nbformat": 4,
 "nbformat_minor": 5
}
