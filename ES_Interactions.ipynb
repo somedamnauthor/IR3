{
 "cells": [
  {
   "cell_type": "markdown",
   "id": "def3c69a",
   "metadata": {},
   "source": [
    "# Setup"
   ]
  },
  {
   "cell_type": "markdown",
   "id": "36067d6c",
   "metadata": {},
   "source": [
    "### Acquire Data and Queries"
   ]
  },
  {
   "cell_type": "code",
   "execution_count": 1,
   "id": "9307c3b0",
   "metadata": {},
   "outputs": [],
   "source": [
    "# pip install ir_datasets\n",
    "import ir_datasets\n",
    "dataset = ir_datasets.load(\"clinicaltrials/2021\")"
   ]
  },
  {
   "cell_type": "code",
   "execution_count": 142,
   "id": "19406948",
   "metadata": {},
   "outputs": [],
   "source": [
    "# for doc in dataset.docs_iter():\n",
    "#     print(doc) # namedtuple<doc_id, title, condition, summary, detailed_description, eligibility>\n",
    "#     break"
   ]
  },
  {
   "cell_type": "code",
   "execution_count": 58,
   "id": "125a04f4",
   "metadata": {},
   "outputs": [],
   "source": [
    "# !pip install pandas\n",
    "import pandas as pd\n",
    "queries = pd.read_csv('queries_2021.tsv', sep='\\t', header=None)\n",
    "queries.columns = ['id', 'query']"
   ]
  },
  {
   "cell_type": "markdown",
   "id": "969bf02a",
   "metadata": {},
   "source": [
    "### Install ES package, connect to ES service"
   ]
  },
  {
   "cell_type": "code",
   "execution_count": 5,
   "id": "4c1b6f16",
   "metadata": {},
   "outputs": [],
   "source": [
    "# !pip install elasticsearch==7.9.1\n",
    "# !pip install elasticsearch==7.17.3"
   ]
  },
  {
   "cell_type": "code",
   "execution_count": 2,
   "id": "2da8d086",
   "metadata": {},
   "outputs": [],
   "source": [
    "from elasticsearch import Elasticsearch\n",
    "es = Elasticsearch(HOST='http://localhost', PORT='9200')"
   ]
  },
  {
   "cell_type": "markdown",
   "id": "b44e436b",
   "metadata": {},
   "source": [
    "# Load Data into ElasticSearch"
   ]
  },
  {
   "cell_type": "code",
   "execution_count": 3,
   "id": "caada740",
   "metadata": {},
   "outputs": [],
   "source": [
    "#define mapping to store data\n",
    "mapping = {\n",
    "    \"settings\":\n",
    "    {\n",
    "        \"index\":\n",
    "        {\n",
    "            \"number_of_shards\":1,\n",
    "            \"number_of_replicas\":1\n",
    "        }\n",
    "    },\n",
    "    \"mappings\":\n",
    "    {\n",
    "        \"properties\":\n",
    "        {\n",
    "            \"content\":\n",
    "            {\n",
    "                \"type\":\"text\",\n",
    "                \"fielddata\":True,\n",
    "                \"term_vector\":\"with_positions_offsets_payloads\",\n",
    "                \"store\":True,\n",
    "                \"analyzer\":\"whitespace\"\n",
    "            }\n",
    "        }\n",
    "    }\n",
    "}\n"
   ]
  },
  {
   "cell_type": "code",
   "execution_count": 19,
   "id": "ec458f06",
   "metadata": {},
   "outputs": [
    {
     "name": "stdout",
     "output_type": "stream",
     "text": [
      "Create Index Response: {'acknowledged': True, 'shards_acknowledged': True, 'index': 'ir3'}\n"
     ]
    }
   ],
   "source": [
    "#Delete any previously created index named 'ir3'\n",
    "es.indices.delete(index='ir3', ignore=[404, 400])\n",
    "\n",
    "#Create index with the mapping defined\n",
    "response_createIndex = es.indices.create(index='ir3', body=mapping)\n",
    "print(\"Create Index Response:\", response_createIndex)"
   ]
  },
  {
   "cell_type": "code",
   "execution_count": 24,
   "id": "d7d8baac",
   "metadata": {},
   "outputs": [],
   "source": [
    "#Load data into the index\n",
    "\n",
    "id = 0\n",
    "for doc in dataset.docs_iter():\n",
    "    es.index('ir3', id=id, body=doc)\n",
    "    id+=1"
   ]
  },
  {
   "cell_type": "code",
   "execution_count": 171,
   "id": "3280252f",
   "metadata": {},
   "outputs": [
    {
     "data": {
      "text/plain": [
       "{'_index': 'ir3',\n",
       " '_type': '_doc',\n",
       " '_id': '0',\n",
       " '_version': 1,\n",
       " '_seq_no': 1,\n",
       " '_primary_term': 1,\n",
       " 'found': True,\n",
       " '_source': {'doc_id': 'NCT00000102',\n",
       "  'title': 'Congenital Adrenal Hyperplasia: Calcium Channels as Therapeutic Targets',\n",
       "  'condition': '',\n",
       "  'summary': '\\n    \\n      This study will test the ability of extended release nifedipine (Procardia XL), a blood\\r\\n      pressure medication, to permit a decrease in the dose of glucocorticoid medication children\\r\\n      take to treat congenital adrenal hyperplasia (CAH).\\r\\n    \\n  ',\n",
       "  'detailed_description': '\\n    \\n      This protocol is designed to assess both acute and chronic effects of the calcium channel\\r\\n      antagonist, nifedipine, on the hypothalamic-pituitary-adrenal axis in patients with\\r\\n      congenital adrenal hyperplasia. The multicenter trial is composed of two phases and will\\r\\n      involve a double-blind, placebo-controlled parallel design. The goal of Phase I is to examine\\r\\n      the ability of nifedipine vs. placebo to decrease adrenocorticotropic hormone (ACTH) levels,\\r\\n      as well as to begin to assess the dose-dependency of nifedipine effects. The goal of Phase II\\r\\n      is to evaluate the long-term effects of nifedipine; that is, can attenuation of ACTH release\\r\\n      by nifedipine permit a decrease in the dosage of glucocorticoid needed to suppress the HPA\\r\\n      axis? Such a decrease would, in turn, reduce the deleterious effects of glucocorticoid\\r\\n      treatment in CAH.\\r\\n    \\n  ',\n",
       "  'eligibility': '\\n      \\n        Inclusion Criteria:\\r\\n\\r\\n          -  diagnosed with Congenital Adrenal Hyperplasia (CAH)\\r\\n\\r\\n          -  normal ECG during baseline evaluation\\r\\n\\r\\n        Exclusion Criteria:\\r\\n\\r\\n          -  history of liver disease, or elevated liver function tests\\r\\n\\r\\n          -  history of cardiovascular disease\\r\\n      \\n    '}}"
      ]
     },
     "execution_count": 171,
     "metadata": {},
     "output_type": "execute_result"
    }
   ],
   "source": [
    "#Test if the load worked\n",
    "resp = es.get(index='ir3', id=0)\n",
    "resp"
   ]
  },
  {
   "cell_type": "markdown",
   "id": "8d65e250",
   "metadata": {},
   "source": [
    "# Run Queries"
   ]
  },
  {
   "cell_type": "code",
   "execution_count": 167,
   "id": "f8e4086f",
   "metadata": {},
   "outputs": [
    {
     "data": {
      "text/plain": [
       "\"A 45-year-old woman was referred to the emergency department with abdominal pain lasting about 4 days accompanied by nausea and 2 episodes of vomiting. The pain is localized to the epigastric region and radiates to the right upper quadrant. The pain is worsening after eating fatty food. The patient experienced similar pain twice in the past year. Her past medical history is remarkable for hypercholesterolemia and two C/sections. She has 2 children, and she is menopausal. She doesn't smoke, drink alcohol, or use illicit drugs. She is mildly febrile. Her BP is 150/85, HR 115, RR 15, T 38.2, SpO2 98% on RA. On palpation, she experiences epigastric tenderness  and  tenderness in the right upper quadrant without rebound. Bowel sounds are normal. Laboratory analysis is remarkable for elevated ESR and leukocytosis with a left shift. The ultrasound revealed several gallstones and biliary sludge. The largest gallstone is 0.7cm. Surgery consultation recommends elective cholecystectomy.\""
      ]
     },
     "execution_count": 167,
     "metadata": {},
     "output_type": "execute_result"
    }
   ],
   "source": [
    "qtext = queries['query'][25]\n",
    "qtext"
   ]
  },
  {
   "cell_type": "code",
   "execution_count": 172,
   "id": "5bffb673",
   "metadata": {},
   "outputs": [
    {
     "data": {
      "text/plain": [
       "{'took': 1,\n",
       " 'timed_out': False,\n",
       " '_shards': {'total': 1, 'successful': 1, 'skipped': 0, 'failed': 0},\n",
       " 'hits': {'total': {'value': 0, 'relation': 'eq'},\n",
       "  'max_score': None,\n",
       "  'hits': []}}"
      ]
     },
     "execution_count": 172,
     "metadata": {},
     "output_type": "execute_result"
    }
   ],
   "source": [
    "qtext = queries['query'][0]\n",
    "\n",
    "ex_query ={\n",
    "\"size\": 10000,\n",
    "\"query\": {\n",
    "\"bool\": {\n",
    "\"should\": [\n",
    "{\"match\": {\"Content\": qtext}}\n",
    "]\n",
    ",\"minimum_should_match\": 1,\n",
    "\"boost\": 1.0\n",
    "}\n",
    "}\n",
    "}\n",
    "\n",
    "resp = es.search(index='ir3', body = ex_query)\n",
    "resp"
   ]
  },
  {
   "cell_type": "code",
   "execution_count": 64,
   "id": "ab2b65dc",
   "metadata": {},
   "outputs": [
    {
     "data": {
      "text/html": [
       "<div>\n",
       "<style scoped>\n",
       "    .dataframe tbody tr th:only-of-type {\n",
       "        vertical-align: middle;\n",
       "    }\n",
       "\n",
       "    .dataframe tbody tr th {\n",
       "        vertical-align: top;\n",
       "    }\n",
       "\n",
       "    .dataframe thead th {\n",
       "        text-align: right;\n",
       "    }\n",
       "</style>\n",
       "<table border=\"1\" class=\"dataframe\">\n",
       "  <thead>\n",
       "    <tr style=\"text-align: right;\">\n",
       "      <th></th>\n",
       "      <th>id</th>\n",
       "      <th>query</th>\n",
       "    </tr>\n",
       "  </thead>\n",
       "  <tbody>\n",
       "    <tr>\n",
       "      <th>0</th>\n",
       "      <td>1</td>\n",
       "      <td>Patient is a 45-year-old man with a history of...</td>\n",
       "    </tr>\n",
       "    <tr>\n",
       "      <th>1</th>\n",
       "      <td>2</td>\n",
       "      <td>48 M with a h/o HTN hyperlipidemia, bicuspid a...</td>\n",
       "    </tr>\n",
       "    <tr>\n",
       "      <th>2</th>\n",
       "      <td>3</td>\n",
       "      <td>A 32 yo woman who presents following a severe ...</td>\n",
       "    </tr>\n",
       "    <tr>\n",
       "      <th>3</th>\n",
       "      <td>4</td>\n",
       "      <td>This is a 44 year old female with PMH of PCOS,...</td>\n",
       "    </tr>\n",
       "    <tr>\n",
       "      <th>4</th>\n",
       "      <td>5</td>\n",
       "      <td>74M hx of CAD s/p CABG, EF 60% prior CVA (no r...</td>\n",
       "    </tr>\n",
       "    <tr>\n",
       "      <th>...</th>\n",
       "      <td>...</td>\n",
       "      <td>...</td>\n",
       "    </tr>\n",
       "    <tr>\n",
       "      <th>70</th>\n",
       "      <td>71</td>\n",
       "      <td>The patient is a 34-year-old obese woman who c...</td>\n",
       "    </tr>\n",
       "    <tr>\n",
       "      <th>71</th>\n",
       "      <td>72</td>\n",
       "      <td>The patient is a 16-year-old girl recently dia...</td>\n",
       "    </tr>\n",
       "    <tr>\n",
       "      <th>72</th>\n",
       "      <td>73</td>\n",
       "      <td>The patient is a 3-day-old female infant with ...</td>\n",
       "    </tr>\n",
       "    <tr>\n",
       "      <th>73</th>\n",
       "      <td>74</td>\n",
       "      <td>The patient is a 53-year-old man complaining o...</td>\n",
       "    </tr>\n",
       "    <tr>\n",
       "      <th>74</th>\n",
       "      <td>75</td>\n",
       "      <td>The patient is a 55-year-old man who was recen...</td>\n",
       "    </tr>\n",
       "  </tbody>\n",
       "</table>\n",
       "<p>75 rows × 2 columns</p>\n",
       "</div>"
      ],
      "text/plain": [
       "    id                                              query\n",
       "0    1  Patient is a 45-year-old man with a history of...\n",
       "1    2  48 M with a h/o HTN hyperlipidemia, bicuspid a...\n",
       "2    3  A 32 yo woman who presents following a severe ...\n",
       "3    4  This is a 44 year old female with PMH of PCOS,...\n",
       "4    5  74M hx of CAD s/p CABG, EF 60% prior CVA (no r...\n",
       "..  ..                                                ...\n",
       "70  71  The patient is a 34-year-old obese woman who c...\n",
       "71  72  The patient is a 16-year-old girl recently dia...\n",
       "72  73  The patient is a 3-day-old female infant with ...\n",
       "73  74  The patient is a 53-year-old man complaining o...\n",
       "74  75  The patient is a 55-year-old man who was recen...\n",
       "\n",
       "[75 rows x 2 columns]"
      ]
     },
     "execution_count": 64,
     "metadata": {},
     "output_type": "execute_result"
    }
   ],
   "source": [
    "#Check queries df\n",
    "queries"
   ]
  },
  {
   "cell_type": "code",
   "execution_count": 170,
   "id": "fceb9408",
   "metadata": {},
   "outputs": [
    {
     "name": "stdout",
     "output_type": "stream",
     "text": [
      "Query  0  got 0 Hits:\n",
      "Query  1  got 0 Hits:\n",
      "Query  2  got 0 Hits:\n",
      "Query  3  got 0 Hits:\n",
      "Query  4  got 0 Hits:\n",
      "Query  5  got 0 Hits:\n",
      "Query  6  got 0 Hits:\n",
      "Query  7  got 0 Hits:\n",
      "Query  8  got 0 Hits:\n",
      "Query  9  got 0 Hits:\n",
      "Query  10  got 0 Hits:\n",
      "Query  11  got 0 Hits:\n",
      "Query  12  got 0 Hits:\n",
      "Query  13  got 0 Hits:\n",
      "Query  14  got 0 Hits:\n",
      "Query  15  got 0 Hits:\n",
      "Query  16  got 0 Hits:\n",
      "Query  17  got 0 Hits:\n",
      "Query  18  got 0 Hits:\n",
      "Query  19  got 0 Hits:\n",
      "Query  20  got 0 Hits:\n",
      "Query  21  got 0 Hits:\n",
      "Query  22  got 0 Hits:\n",
      "Query  23  got 0 Hits:\n",
      "Query  24  got 0 Hits:\n",
      "Query  25  got 0 Hits:\n",
      "Query  26  got 0 Hits:\n",
      "Query  27  got 0 Hits:\n",
      "Query  28  got 0 Hits:\n",
      "Query  29  got 0 Hits:\n",
      "Query  30  got 0 Hits:\n",
      "Query  31  got 0 Hits:\n",
      "Query  32  got 0 Hits:\n",
      "Query  33  got 0 Hits:\n",
      "Query  34  got 0 Hits:\n",
      "Query  35  got 0 Hits:\n",
      "Query  36  got 0 Hits:\n",
      "Query  37  got 0 Hits:\n",
      "Query  38  got 0 Hits:\n",
      "Query  39  got 0 Hits:\n",
      "Query  40  got 0 Hits:\n",
      "Query  41  got 0 Hits:\n",
      "Query  42  got 0 Hits:\n",
      "Query  43  got 0 Hits:\n",
      "Query  44  got 0 Hits:\n",
      "Query  45  got 0 Hits:\n",
      "Query  46  got 0 Hits:\n",
      "Query  47  got 0 Hits:\n",
      "Query  48  got 0 Hits:\n",
      "Query  49  got 0 Hits:\n",
      "Query  50  got 0 Hits:\n",
      "Query  51  got 0 Hits:\n",
      "Query  52  got 0 Hits:\n",
      "Query  53  got 0 Hits:\n",
      "Query  54  got 0 Hits:\n",
      "Query  55  got 0 Hits:\n",
      "Query  56  got 0 Hits:\n",
      "Query  57  got 0 Hits:\n",
      "Query  58  got 0 Hits:\n",
      "Query  59  got 0 Hits:\n",
      "Query  60  got 0 Hits:\n",
      "Query  61  got 0 Hits:\n",
      "Query  62  got 0 Hits:\n",
      "Query  63  got 0 Hits:\n",
      "Query  64  got 0 Hits:\n",
      "Query  65  got 0 Hits:\n",
      "Query  66  got 0 Hits:\n",
      "Query  67  got 0 Hits:\n",
      "Query  68  got 0 Hits:\n",
      "Query  69  got 0 Hits:\n",
      "Query  70  got 0 Hits:\n",
      "Query  71  got 0 Hits:\n",
      "Query  72  got 0 Hits:\n",
      "Query  73  got 0 Hits:\n",
      "Query  74  got 0 Hits:\n"
     ]
    }
   ],
   "source": [
    "for id in range(75):\n",
    "    \n",
    "    \n",
    "    query_text = queries['query'][id]\n",
    "    \n",
    "    bool_query = {\n",
    "        \"size\": 10000,\n",
    "        \"query\": \n",
    "        {\n",
    "            \"bool\": \n",
    "            {\n",
    "                \"should\": \n",
    "                [\n",
    "                    {\n",
    "                        \"match\": \n",
    "                        {\n",
    "                            \"Content\": query_text\n",
    "                        }\n",
    "                    }\n",
    "                ],\n",
    "                \"minimum_should_match\": 1,\n",
    "                \"boost\": 1.0\n",
    "            }\n",
    "        }\n",
    "    }\n",
    "    \n",
    "    resp = es.search(index='ir3', body=bool_query)\n",
    "    print(\"Query \",id,\" got %d Hits:\" % resp['hits']['total']['value'])"
   ]
  }
 ],
 "metadata": {
  "kernelspec": {
   "display_name": "Python 3.8.10 64-bit",
   "language": "python",
   "name": "python3810jvsc74a57bd0916dbcbb3f70747c44a77c7bcd40155683ae19c65e1c03b4aa3499c5328201f1"
  },
  "language_info": {
   "codemirror_mode": {
    "name": "ipython",
    "version": 3
   },
   "file_extension": ".py",
   "mimetype": "text/x-python",
   "name": "python",
   "nbconvert_exporter": "python",
   "pygments_lexer": "ipython3",
   "version": "3.8.10"
  }
 },
 "nbformat": 4,
 "nbformat_minor": 5
}
