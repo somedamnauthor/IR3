{
 "cells": [
  {
   "cell_type": "markdown",
   "id": "def3c69a",
   "metadata": {},
   "source": [
    "# Setup"
   ]
  },
  {
   "cell_type": "markdown",
   "id": "ead31531",
   "metadata": {},
   "source": [
    "### Acquire Data and Queries"
   ]
  },
  {
   "cell_type": "code",
   "execution_count": 1,
   "id": "9307c3b0",
   "metadata": {},
   "outputs": [],
   "source": [
    "#Load dataset\n",
    "# pip install ir_datasets\n",
    "import ir_datasets\n",
    "dataset = ir_datasets.load(\"clinicaltrials/2021\")"
   ]
  },
  {
   "cell_type": "code",
   "execution_count": 142,
   "id": "19406948",
   "metadata": {},
   "outputs": [],
   "source": [
    "#Test if dataset is loaded\n",
    "# for doc in dataset.docs_iter():\n",
    "#     print(doc) # namedtuple<doc_id, title, condition, summary, detailed_description, eligibility>\n",
    "#     break"
   ]
  },
  {
   "cell_type": "code",
   "execution_count": 58,
   "id": "9abef237",
   "metadata": {},
   "outputs": [],
   "source": [
    "#Load queries into a df\n",
    "import pandas as pd\n",
    "queries = pd.read_csv('queries_2021.tsv', sep='\\t', header=None)\n",
    "queries.columns = ['id', 'query']"
   ]
  },
  {
   "cell_type": "markdown",
   "id": "ef935329",
   "metadata": {},
   "source": [
    "### Install ES package, connect to ES service"
   ]
  },
  {
   "cell_type": "code",
   "execution_count": 5,
   "id": "4c1b6f16",
   "metadata": {},
   "outputs": [],
   "source": [
    "# !pip install elasticsearch==7.9.1"
   ]
  },
  {
   "cell_type": "code",
   "execution_count": 2,
   "id": "2da8d086",
   "metadata": {},
   "outputs": [],
   "source": [
    "from elasticsearch import Elasticsearch\n",
    "es = Elasticsearch(HOST='http://localhost', PORT='9200')"
   ]
  },
  {
   "cell_type": "markdown",
   "id": "0dbb308f",
   "metadata": {},
   "source": [
    "# Load Data into ElasticSearch"
   ]
  },
  {
   "cell_type": "code",
   "execution_count": 3,
   "id": "caada740",
   "metadata": {},
   "outputs": [],
   "source": [
    "#define mapping to store data\n",
    "mapping = {\n",
    "    \"settings\":\n",
    "    {\n",
    "        \"index\":\n",
    "        {\n",
    "            \"number_of_shards\":1,\n",
    "            \"number_of_replicas\":1\n",
    "        }\n",
    "    },\n",
    "    \"mappings\":\n",
    "    {\n",
    "        \"properties\":\n",
    "        {\n",
    "            \"content\":\n",
    "            {\n",
    "                \"type\":\"text\",\n",
    "                \"fielddata\":True,\n",
    "                \"term_vector\":\"with_positions_offsets_payloads\",\n",
    "                \"store\":True,\n",
    "                \"analyzer\":\"whitespace\"\n",
    "            }\n",
    "        }\n",
    "    }\n",
    "}\n"
   ]
  },
  {
   "cell_type": "code",
   "execution_count": 19,
   "id": "ec458f06",
   "metadata": {},
   "outputs": [
    {
     "name": "stdout",
     "output_type": "stream",
     "text": [
      "Create Index Response: {'acknowledged': True, 'shards_acknowledged': True, 'index': 'ir3'}\n"
     ]
    }
   ],
   "source": [
    "#Delete any previously created index named 'ir3'\n",
    "es.indices.delete(index='ir3', ignore=[404, 400])\n",
    "\n",
    "#Create index with the mapping defined\n",
    "response_createIndex = es.indices.create(index='ir3', body=mapping)\n",
    "print(\"Create Index Response:\", response_createIndex)"
   ]
  },
  {
   "cell_type": "code",
   "execution_count": 24,
   "id": "313d83b3",
   "metadata": {},
   "outputs": [],
   "source": [
    "#Load data into the index\n",
    "\n",
    "id = 0\n",
    "for doc in dataset.docs_iter():\n",
    "    es.index('ir3', id=id, body=doc)\n",
    "    id+=1"
   ]
  },
  {
   "cell_type": "code",
   "execution_count": 171,
   "id": "c9158fc6",
   "metadata": {},
   "outputs": [
    {
     "data": {
      "text/plain": [
       "{'_index': 'ir3',\n",
       " '_type': '_doc',\n",
       " '_id': '0',\n",
       " '_version': 1,\n",
       " '_seq_no': 1,\n",
       " '_primary_term': 1,\n",
       " 'found': True,\n",
       " '_source': {'doc_id': 'NCT00000102',\n",
       "  'title': 'Congenital Adrenal Hyperplasia: Calcium Channels as Therapeutic Targets',\n",
       "  'condition': '',\n",
       "  'summary': '\\n    \\n      This study will test the ability of extended release nifedipine (Procardia XL), a blood\\r\\n      pressure medication, to permit a decrease in the dose of glucocorticoid medication children\\r\\n      take to treat congenital adrenal hyperplasia (CAH).\\r\\n    \\n  ',\n",
       "  'detailed_description': '\\n    \\n      This protocol is designed to assess both acute and chronic effects of the calcium channel\\r\\n      antagonist, nifedipine, on the hypothalamic-pituitary-adrenal axis in patients with\\r\\n      congenital adrenal hyperplasia. The multicenter trial is composed of two phases and will\\r\\n      involve a double-blind, placebo-controlled parallel design. The goal of Phase I is to examine\\r\\n      the ability of nifedipine vs. placebo to decrease adrenocorticotropic hormone (ACTH) levels,\\r\\n      as well as to begin to assess the dose-dependency of nifedipine effects. The goal of Phase II\\r\\n      is to evaluate the long-term effects of nifedipine; that is, can attenuation of ACTH release\\r\\n      by nifedipine permit a decrease in the dosage of glucocorticoid needed to suppress the HPA\\r\\n      axis? Such a decrease would, in turn, reduce the deleterious effects of glucocorticoid\\r\\n      treatment in CAH.\\r\\n    \\n  ',\n",
       "  'eligibility': '\\n      \\n        Inclusion Criteria:\\r\\n\\r\\n          -  diagnosed with Congenital Adrenal Hyperplasia (CAH)\\r\\n\\r\\n          -  normal ECG during baseline evaluation\\r\\n\\r\\n        Exclusion Criteria:\\r\\n\\r\\n          -  history of liver disease, or elevated liver function tests\\r\\n\\r\\n          -  history of cardiovascular disease\\r\\n      \\n    '}}"
      ]
     },
     "execution_count": 171,
     "metadata": {},
     "output_type": "execute_result"
    }
   ],
   "source": [
    "#Test if the load worked\n",
    "resp = es.get(index='ir3', id=0)\n",
    "resp"
   ]
  },
  {
   "cell_type": "markdown",
   "id": "1591066a",
   "metadata": {},
   "source": [
    "# Run Queries"
   ]
  },
  {
   "cell_type": "code",
   "execution_count": 189,
   "id": "85e61c73",
   "metadata": {},
   "outputs": [
    {
     "data": {
      "text/html": [
       "<div>\n",
       "<style scoped>\n",
       "    .dataframe tbody tr th:only-of-type {\n",
       "        vertical-align: middle;\n",
       "    }\n",
       "\n",
       "    .dataframe tbody tr th {\n",
       "        vertical-align: top;\n",
       "    }\n",
       "\n",
       "    .dataframe thead th {\n",
       "        text-align: right;\n",
       "    }\n",
       "</style>\n",
       "<table border=\"1\" class=\"dataframe\">\n",
       "  <thead>\n",
       "    <tr style=\"text-align: right;\">\n",
       "      <th></th>\n",
       "      <th>id</th>\n",
       "      <th>query</th>\n",
       "    </tr>\n",
       "  </thead>\n",
       "  <tbody>\n",
       "    <tr>\n",
       "      <th>0</th>\n",
       "      <td>1</td>\n",
       "      <td>Patient is a 45-year-old man with a history of...</td>\n",
       "    </tr>\n",
       "    <tr>\n",
       "      <th>1</th>\n",
       "      <td>2</td>\n",
       "      <td>48 M with a h/o HTN hyperlipidemia, bicuspid a...</td>\n",
       "    </tr>\n",
       "    <tr>\n",
       "      <th>2</th>\n",
       "      <td>3</td>\n",
       "      <td>A 32 yo woman who presents following a severe ...</td>\n",
       "    </tr>\n",
       "    <tr>\n",
       "      <th>3</th>\n",
       "      <td>4</td>\n",
       "      <td>This is a 44 year old female with PMH of PCOS,...</td>\n",
       "    </tr>\n",
       "    <tr>\n",
       "      <th>4</th>\n",
       "      <td>5</td>\n",
       "      <td>74M hx of CAD s/p CABG, EF 60% prior CVA (no r...</td>\n",
       "    </tr>\n",
       "    <tr>\n",
       "      <th>...</th>\n",
       "      <td>...</td>\n",
       "      <td>...</td>\n",
       "    </tr>\n",
       "    <tr>\n",
       "      <th>70</th>\n",
       "      <td>71</td>\n",
       "      <td>The patient is a 34-year-old obese woman who c...</td>\n",
       "    </tr>\n",
       "    <tr>\n",
       "      <th>71</th>\n",
       "      <td>72</td>\n",
       "      <td>The patient is a 16-year-old girl recently dia...</td>\n",
       "    </tr>\n",
       "    <tr>\n",
       "      <th>72</th>\n",
       "      <td>73</td>\n",
       "      <td>The patient is a 3-day-old female infant with ...</td>\n",
       "    </tr>\n",
       "    <tr>\n",
       "      <th>73</th>\n",
       "      <td>74</td>\n",
       "      <td>The patient is a 53-year-old man complaining o...</td>\n",
       "    </tr>\n",
       "    <tr>\n",
       "      <th>74</th>\n",
       "      <td>75</td>\n",
       "      <td>The patient is a 55-year-old man who was recen...</td>\n",
       "    </tr>\n",
       "  </tbody>\n",
       "</table>\n",
       "<p>75 rows × 2 columns</p>\n",
       "</div>"
      ],
      "text/plain": [
       "    id                                              query\n",
       "0    1  Patient is a 45-year-old man with a history of...\n",
       "1    2  48 M with a h/o HTN hyperlipidemia, bicuspid a...\n",
       "2    3  A 32 yo woman who presents following a severe ...\n",
       "3    4  This is a 44 year old female with PMH of PCOS,...\n",
       "4    5  74M hx of CAD s/p CABG, EF 60% prior CVA (no r...\n",
       "..  ..                                                ...\n",
       "70  71  The patient is a 34-year-old obese woman who c...\n",
       "71  72  The patient is a 16-year-old girl recently dia...\n",
       "72  73  The patient is a 3-day-old female infant with ...\n",
       "73  74  The patient is a 53-year-old man complaining o...\n",
       "74  75  The patient is a 55-year-old man who was recen...\n",
       "\n",
       "[75 rows x 2 columns]"
      ]
     },
     "execution_count": 189,
     "metadata": {},
     "output_type": "execute_result"
    }
   ],
   "source": [
    "#Check queries df\n",
    "queries"
   ]
  },
  {
   "cell_type": "markdown",
   "id": "61c96f94",
   "metadata": {},
   "source": [
    "### Check example query on ES"
   ]
  },
  {
   "cell_type": "code",
   "execution_count": 185,
   "id": "46ab91e0",
   "metadata": {},
   "outputs": [
    {
     "data": {
      "text/plain": [
       "'Patient is a 45-year-old man with a history of anaplastic astrocytoma of the spine complicated by severe lower extremity weakness and urinary retention s/p Foley catheter, high-dose steroids, hypertension, and chronic pain. The tumor is located in the T-L spine, unresectable anaplastic astrocytoma s/p radiation. Complicated by progressive lower extremity weakness and urinary retention. Patient initially presented with RLE weakness where his right knee gave out with difficulty walking and right anterior thigh numbness. MRI showed a spinal cord conus mass which was biopsied and found to be anaplastic astrocytoma. Therapy included field radiation t10-l1 followed by 11 cycles of temozolomide 7 days on and 7 days off. This was followed by CPT-11 Weekly x4 with Avastin Q2 weeks/ 2 weeks rest and repeat cycle.'"
      ]
     },
     "execution_count": 185,
     "metadata": {},
     "output_type": "execute_result"
    }
   ],
   "source": [
    "qtext = queries['query'][0]\n",
    "qtext"
   ]
  },
  {
   "cell_type": "code",
   "execution_count": 225,
   "id": "9af1c59a",
   "metadata": {
    "scrolled": true
   },
   "outputs": [],
   "source": [
    "#For the query above, this prints the document ID and the score of all the 10000 hits\n",
    "\n",
    "qtext = queries['query'][0]\n",
    "\n",
    "ex_query ={\n",
    "\"size\": 10000,\n",
    "\"query\": {\n",
    "\"bool\": {\n",
    "\"should\": [\n",
    "{\"match\": {\"detailed_description\": qtext}}\n",
    "]\n",
    ",\"minimum_should_match\": 1,\n",
    "\"boost\": 1.0\n",
    "}\n",
    "}\n",
    "}\n",
    "\n",
    "resp = es.search(index='ir3', body = ex_query)\n",
    "\n",
    "r = resp['hits']['hits']\n",
    "# for hit in r:\n",
    "#     print(hit['_id'], hit['_score'])"
   ]
  },
  {
   "cell_type": "markdown",
   "id": "68dacb1b",
   "metadata": {},
   "source": [
    "##### Note: \n",
    "For the query above, we are specifically querying only the 'detailed_description' field of each document in the dataset. Check if this is correct. Should we also query the 'summary' field? "
   ]
  },
  {
   "cell_type": "code",
   "execution_count": 230,
   "id": "00bfe3ba",
   "metadata": {},
   "outputs": [
    {
     "data": {
      "text/plain": [
       "{'_index': 'ir3',\n",
       " '_type': '_doc',\n",
       " '_id': '2747',\n",
       " '_score': 121.18297,\n",
       " '_source': {'doc_id': 'NCT00003176',\n",
       "  'title': 'Temozolomide and Carmustine in Treating Patients With Anaplastic Glioma',\n",
       "  'condition': '',\n",
       "  'summary': '\\n    \\n      RATIONALE: Drugs used in chemotherapy use different ways to stop tumor cells from dividing so\\r\\n      they stop growing or die. Combining more than one drug may kill more tumor cells.\\r\\n\\r\\n      PURPOSE: Phase II trial to study the effectiveness of temozolomide and carmustine in treating\\r\\n      patients with anaplastic glioma.\\r\\n    \\n  ',\n",
       "  'detailed_description': \"\\n    \\n      OBJECTIVES: I. Evaluate the activity, measured in terms of progression free survival, of\\r\\n      carmustine plus temozolomide in recurrent glioblastoma. II. Estimate the response rate of\\r\\n      recurrent glioblastomas to this combination. III. Estimate the response rate of newly\\r\\n      diagnosed anaplastic astrocytomas and mixed anaplastic glioma to this combination. IV.\\r\\n      Evaluate the qualitative and quantitative toxicities of this combination in patients with\\r\\n      anaplastic gliomas.\\r\\n\\r\\n      OUTLINE: This is a nonrandomized study. Patients are stratified by disease (recurrent\\r\\n      glioblastoma vs anaplastic astrocytoma or mixed anaplastic glioma). Patients receive\\r\\n      carmustine intravenously on day 1 two hours prior to temozolomide. Temozolomide is\\r\\n      administered orally on day 1. Cycles repeat every 42 days. Treatment for patients with\\r\\n      recurrent glioblastoma may continue for 8 cycles in the absence of disease progression or\\r\\n      unacceptable toxicity. If there is no disease progression after 8 cycles, treatment may\\r\\n      continue further at the investigator's discretion. Patients with anaplastic astrocytoma or\\r\\n      mixed anaplastic glioma continue for 4 cycles of treatment. Patients are followed\\r\\n      periodically at the investigator's discretion, at least twice in the first 4 months, and then\\r\\n      until death.\\r\\n\\r\\n      PROJECTED ACCRUAL: A minimum of 17 patients and a maximum of 37 patients will be accrued in\\r\\n      the recurrent glioblastoma stratum and 45 patients will be accrued into the anaplastic\\r\\n      astrocytoma and mixed anaplastic glioma stratum.\\r\\n    \\n  \",\n",
       "  'eligibility': \"\\n      \\n        DISEASE CHARACTERISTICS: Histologically confirmed malignant glioma - Recurrent glioblastoma\\r\\n        - Anaplastic astrocytoma - Mixed anaplastic glioma For recurrent glioblastoma: Required\\r\\n        documented progression must include an increase in tumor size of at least 25% or appearance\\r\\n        of new lesion For anaplastic astrocytoma or mixed anaplastic glioma: Must have measurable,\\r\\n        contrast enhancing disease on postoperative CT or MRI scan No postoperative radiation or\\r\\n        chemotherapy If patients have received prior brachytherapy or stereotactic radiosurgery,\\r\\n        they must have confirmation of true progressive disease rather than radiation necrosis by\\r\\n        PET scanning or biopsy\\r\\n\\r\\n        PATIENT CHARACTERISTICS: Age: 18 and over Performance status: Karnofsky 60-100% Life\\r\\n        expectancy: Not specified Hematopoietic: WBC at least 3,500/mm3 Absolute neutrophil count\\r\\n        at least 1,800/mm3 Platelet count at least 125,000/mm3 Hemoglobin at least 9 g/dL\\r\\n        (transfusion allowed) Hepatic: Bilirubin less than 1.5 mg/dL SGOT less than 2.0 times upper\\r\\n        limit of normal Renal: Creatinine less than 1.5 mg/dL OR Creatinine clearance greater than\\r\\n        70 mL/min Cardiovascular: No uncontrolled arrhythmias or conduction defects No unstable or\\r\\n        newly diagnosed angina pectoris No New York Heart Association class II-IV heart disease No\\r\\n        congestive heart failure No major problems with edema (e.g., severe Cushing's syndrome,\\r\\n        residual leg swelling from deep-vein thrombosis) No recent coronary artery disease No\\r\\n        poorly controlled hypertension (diastolic greater than 110 mmHg and systolic greater than\\r\\n        180 mmHg) Pulmonary: DLCO greater than 80% of expected value Other: HIV negative No major\\r\\n        psychiatric illness No other prior malignancy except adequately treated basal cell or\\r\\n        squamous cell skin cancer, in situ cervical cancer, adequately treated stage I or II cancer\\r\\n        from which the patient is currently in complete remission, or any other cancer from which\\r\\n        the patient has been free of disease for 5 years Not pregnant or nursing Adequate\\r\\n        contraception required of all fertile patients\\r\\n\\r\\n        PRIOR CONCURRENT THERAPY: Biologic therapy: No concurrent biologic therapy Chemotherapy: No\\r\\n        prior nitrosourea or temozolomide No more than 1 prior chemotherapy regimen allowed for\\r\\n        patients with glioblastoma At least 6 weeks since mitomycin or procarbazine and recovered\\r\\n        At least 4 weeks since other prior chemotherapy and recovered No other concurrent\\r\\n        chemotherapy Endocrine therapy: If receiving steroids, must be on a stable steroid dose for\\r\\n        at least 72 hours prior to study No other concurrent endocrine therapy Radiotherapy: At\\r\\n        least 6 weeks since radiotherapy No greater than 10-20% of marrow irradiated in prior\\r\\n        radiotherapy No other concurrent radiotherapy Surgery: Surgery allowed\\r\\n      \\n    \"}}"
      ]
     },
     "execution_count": 230,
     "metadata": {},
     "output_type": "execute_result"
    }
   ],
   "source": [
    "#Print just the first hit (out of 10000) for the example query\n",
    "r[0]"
   ]
  },
  {
   "cell_type": "code",
   "execution_count": 226,
   "id": "39920aac",
   "metadata": {},
   "outputs": [
    {
     "data": {
      "text/plain": [
       "10000"
      ]
     },
     "execution_count": 226,
     "metadata": {},
     "output_type": "execute_result"
    }
   ],
   "source": [
    "len(resp['hits']['hits'])"
   ]
  },
  {
   "cell_type": "code",
   "execution_count": 227,
   "id": "f42532eb",
   "metadata": {},
   "outputs": [
    {
     "data": {
      "text/plain": [
       "list"
      ]
     },
     "execution_count": 227,
     "metadata": {},
     "output_type": "execute_result"
    }
   ],
   "source": [
    "type(resp['hits']['hits'])"
   ]
  },
  {
   "cell_type": "markdown",
   "id": "81beda2b",
   "metadata": {},
   "source": [
    "### Run all queries"
   ]
  },
  {
   "cell_type": "markdown",
   "id": "4d975452",
   "metadata": {},
   "source": [
    "\n",
    "TODO - How do we persist the hits?? \n",
    "\n",
    "The way hits_list[] is used in the cell below should probably change. Maybe we only need the docID and the score?"
   ]
  },
  {
   "cell_type": "code",
   "execution_count": 207,
   "id": "d8118b21",
   "metadata": {},
   "outputs": [
    {
     "name": "stdout",
     "output_type": "stream",
     "text": [
      "Query  0  got 10000 Hits:\n",
      "Query  1  got 10000 Hits:\n",
      "Query  2  got 10000 Hits:\n"
     ]
    }
   ],
   "source": [
    "hits_list = []\n",
    "\n",
    "for id in range(75):\n",
    "    \n",
    "    query_text = queries['query'][id]\n",
    "    \n",
    "    bool_query = {\n",
    "        \"size\": 10000,\n",
    "        \"query\": \n",
    "        {\n",
    "            \"bool\": \n",
    "            {\n",
    "                \"should\": \n",
    "                [\n",
    "                    {\n",
    "                        \"match\": \n",
    "                        {\n",
    "                            \"detailed_description\": query_text\n",
    "                        }\n",
    "                    }\n",
    "                ],\n",
    "                \"minimum_should_match\": 1,\n",
    "                \"boost\": 1.0\n",
    "            }\n",
    "        }\n",
    "    }\n",
    "    \n",
    "    resp = es.search(index='ir3', body=bool_query)\n",
    "    print(\"Query \",id,\" got %d Hits\" % resp['hits']['total']['value'])\n",
    "    \n",
    "    hits_list.append(resp['hits']['hits'])"
   ]
  }
 ],
 "metadata": {
  "kernelspec": {
   "display_name": "Python 3.8.10 64-bit",
   "language": "python",
   "name": "python3810jvsc74a57bd0916dbcbb3f70747c44a77c7bcd40155683ae19c65e1c03b4aa3499c5328201f1"
  },
  "language_info": {
   "codemirror_mode": {
    "name": "ipython",
    "version": 3
   },
   "file_extension": ".py",
   "mimetype": "text/x-python",
   "name": "python",
   "nbconvert_exporter": "python",
   "pygments_lexer": "ipython3",
   "version": "3.8.10"
  }
 },
 "nbformat": 4,
 "nbformat_minor": 5
}
