{
 "cells": [
  {
   "cell_type": "markdown",
   "metadata": {},
   "source": [
    "# Imports"
   ]
  },
  {
   "cell_type": "code",
   "execution_count": 1,
   "metadata": {},
   "outputs": [],
   "source": [
    "import os\n",
    "import pandas as pd\n",
    "import ir_datasets\n",
    "\n",
    "from rank_bm25 import BM25Okapi, BM25Plus, BM25L\n",
    "from sklearn.metrics import ndcg_score, precision_score"
   ]
  },
  {
   "cell_type": "markdown",
   "metadata": {},
   "source": [
    "# Load data"
   ]
  },
  {
   "cell_type": "markdown",
   "metadata": {},
   "source": [
    "## Queries"
   ]
  },
  {
   "cell_type": "code",
   "execution_count": 2,
   "metadata": {},
   "outputs": [
    {
     "data": {
      "text/html": [
       "<div>\n",
       "<style scoped>\n",
       "    .dataframe tbody tr th:only-of-type {\n",
       "        vertical-align: middle;\n",
       "    }\n",
       "\n",
       "    .dataframe tbody tr th {\n",
       "        vertical-align: top;\n",
       "    }\n",
       "\n",
       "    .dataframe thead th {\n",
       "        text-align: right;\n",
       "    }\n",
       "</style>\n",
       "<table border=\"1\" class=\"dataframe\">\n",
       "  <thead>\n",
       "    <tr style=\"text-align: right;\">\n",
       "      <th></th>\n",
       "      <th>id</th>\n",
       "      <th>query</th>\n",
       "    </tr>\n",
       "  </thead>\n",
       "  <tbody>\n",
       "    <tr>\n",
       "      <th>0</th>\n",
       "      <td>1</td>\n",
       "      <td>Patient is a 45-year-old man with a history of...</td>\n",
       "    </tr>\n",
       "    <tr>\n",
       "      <th>1</th>\n",
       "      <td>2</td>\n",
       "      <td>48 M with a h/o HTN hyperlipidemia, bicuspid a...</td>\n",
       "    </tr>\n",
       "    <tr>\n",
       "      <th>2</th>\n",
       "      <td>3</td>\n",
       "      <td>A 32 yo woman who presents following a severe ...</td>\n",
       "    </tr>\n",
       "    <tr>\n",
       "      <th>3</th>\n",
       "      <td>4</td>\n",
       "      <td>This is a 44 year old female with PMH of PCOS,...</td>\n",
       "    </tr>\n",
       "    <tr>\n",
       "      <th>4</th>\n",
       "      <td>5</td>\n",
       "      <td>74M hx of CAD s/p CABG, EF 60% prior CVA (no r...</td>\n",
       "    </tr>\n",
       "  </tbody>\n",
       "</table>\n",
       "</div>"
      ],
      "text/plain": [
       "   id                                              query\n",
       "0   1  Patient is a 45-year-old man with a history of...\n",
       "1   2  48 M with a h/o HTN hyperlipidemia, bicuspid a...\n",
       "2   3  A 32 yo woman who presents following a severe ...\n",
       "3   4  This is a 44 year old female with PMH of PCOS,...\n",
       "4   5  74M hx of CAD s/p CABG, EF 60% prior CVA (no r..."
      ]
     },
     "execution_count": 2,
     "metadata": {},
     "output_type": "execute_result"
    }
   ],
   "source": [
    "queries_df = pd.read_csv(\"data/queries_2021.tsv\", sep=\"\\t\", header=None, names=['id', 'query'])\n",
    "\n",
    "queries_df.head()"
   ]
  },
  {
   "cell_type": "markdown",
   "metadata": {},
   "source": [
    "## Document relevance for query"
   ]
  },
  {
   "cell_type": "code",
   "execution_count": 3,
   "metadata": {},
   "outputs": [
    {
     "data": {
      "text/html": [
       "<div>\n",
       "<style scoped>\n",
       "    .dataframe tbody tr th:only-of-type {\n",
       "        vertical-align: middle;\n",
       "    }\n",
       "\n",
       "    .dataframe tbody tr th {\n",
       "        vertical-align: top;\n",
       "    }\n",
       "\n",
       "    .dataframe thead th {\n",
       "        text-align: right;\n",
       "    }\n",
       "</style>\n",
       "<table border=\"1\" class=\"dataframe\">\n",
       "  <thead>\n",
       "    <tr style=\"text-align: right;\">\n",
       "      <th></th>\n",
       "      <th>query_id</th>\n",
       "      <th>unknown</th>\n",
       "      <th>doc_id</th>\n",
       "      <th>relevance</th>\n",
       "    </tr>\n",
       "  </thead>\n",
       "  <tbody>\n",
       "    <tr>\n",
       "      <th>0</th>\n",
       "      <td>1</td>\n",
       "      <td>0</td>\n",
       "      <td>NCT00002569</td>\n",
       "      <td>1</td>\n",
       "    </tr>\n",
       "    <tr>\n",
       "      <th>1</th>\n",
       "      <td>1</td>\n",
       "      <td>0</td>\n",
       "      <td>NCT00002620</td>\n",
       "      <td>1</td>\n",
       "    </tr>\n",
       "    <tr>\n",
       "      <th>2</th>\n",
       "      <td>1</td>\n",
       "      <td>0</td>\n",
       "      <td>NCT00002806</td>\n",
       "      <td>0</td>\n",
       "    </tr>\n",
       "    <tr>\n",
       "      <th>3</th>\n",
       "      <td>1</td>\n",
       "      <td>0</td>\n",
       "      <td>NCT00002814</td>\n",
       "      <td>2</td>\n",
       "    </tr>\n",
       "    <tr>\n",
       "      <th>4</th>\n",
       "      <td>1</td>\n",
       "      <td>0</td>\n",
       "      <td>NCT00003022</td>\n",
       "      <td>1</td>\n",
       "    </tr>\n",
       "  </tbody>\n",
       "</table>\n",
       "</div>"
      ],
      "text/plain": [
       "   query_id  unknown       doc_id  relevance\n",
       "0         1        0  NCT00002569          1\n",
       "1         1        0  NCT00002620          1\n",
       "2         1        0  NCT00002806          0\n",
       "3         1        0  NCT00002814          2\n",
       "4         1        0  NCT00003022          1"
      ]
     },
     "execution_count": 3,
     "metadata": {},
     "output_type": "execute_result"
    }
   ],
   "source": [
    "query_relevance_df = pd.read_csv(\"data/qrels2021.txt\", sep=\" \", header=None, names = [\"query_id\", \"unknown\", \"doc_id\", \"relevance\"])\n",
    "query_relevance_df[\"doc_id\"] = query_relevance_df[\"doc_id\"]\n",
    "query_relevance_df.fillna(0, inplace=True)\n",
    "\n",
    "query_relevance_df.head()"
   ]
  },
  {
   "cell_type": "markdown",
   "metadata": {},
   "source": [
    "## Full dataset"
   ]
  },
  {
   "cell_type": "code",
   "execution_count": 4,
   "metadata": {},
   "outputs": [
    {
     "data": {
      "text/html": [
       "<div>\n",
       "<style scoped>\n",
       "    .dataframe tbody tr th:only-of-type {\n",
       "        vertical-align: middle;\n",
       "    }\n",
       "\n",
       "    .dataframe tbody tr th {\n",
       "        vertical-align: top;\n",
       "    }\n",
       "\n",
       "    .dataframe thead th {\n",
       "        text-align: right;\n",
       "    }\n",
       "</style>\n",
       "<table border=\"1\" class=\"dataframe\">\n",
       "  <thead>\n",
       "    <tr style=\"text-align: right;\">\n",
       "      <th></th>\n",
       "      <th>doc_id</th>\n",
       "      <th>summary</th>\n",
       "      <th>detailed_description</th>\n",
       "    </tr>\n",
       "  </thead>\n",
       "  <tbody>\n",
       "    <tr>\n",
       "      <th>0</th>\n",
       "      <td>NCT00000102</td>\n",
       "      <td>\\n    \\n      This study will test the ability...</td>\n",
       "      <td>\\n    \\n      This protocol is designed to ass...</td>\n",
       "    </tr>\n",
       "    <tr>\n",
       "      <th>1</th>\n",
       "      <td>NCT00000104</td>\n",
       "      <td>\\n    \\n      Inner city children are at an in...</td>\n",
       "      <td></td>\n",
       "    </tr>\n",
       "    <tr>\n",
       "      <th>2</th>\n",
       "      <td>NCT00000105</td>\n",
       "      <td>\\n    \\n      The purpose of this study is to ...</td>\n",
       "      <td>\\n    \\n      Patients will receive each vacci...</td>\n",
       "    </tr>\n",
       "    <tr>\n",
       "      <th>3</th>\n",
       "      <td>NCT00000106</td>\n",
       "      <td>\\n    \\n      Recently a non-toxic system for ...</td>\n",
       "      <td></td>\n",
       "    </tr>\n",
       "    <tr>\n",
       "      <th>4</th>\n",
       "      <td>NCT00000107</td>\n",
       "      <td>\\n    \\n      Adults with cyanotic congenital ...</td>\n",
       "      <td></td>\n",
       "    </tr>\n",
       "  </tbody>\n",
       "</table>\n",
       "</div>"
      ],
      "text/plain": [
       "        doc_id                                            summary  \\\n",
       "0  NCT00000102  \\n    \\n      This study will test the ability...   \n",
       "1  NCT00000104  \\n    \\n      Inner city children are at an in...   \n",
       "2  NCT00000105  \\n    \\n      The purpose of this study is to ...   \n",
       "3  NCT00000106  \\n    \\n      Recently a non-toxic system for ...   \n",
       "4  NCT00000107  \\n    \\n      Adults with cyanotic congenital ...   \n",
       "\n",
       "                                detailed_description  \n",
       "0  \\n    \\n      This protocol is designed to ass...  \n",
       "1                                                     \n",
       "2  \\n    \\n      Patients will receive each vacci...  \n",
       "3                                                     \n",
       "4                                                     "
      ]
     },
     "execution_count": 4,
     "metadata": {},
     "output_type": "execute_result"
    }
   ],
   "source": [
    "dataset = ir_datasets.load(\"clinicaltrials/2021\")\n",
    "\n",
    "dataset_df = pd.DataFrame.from_records([(document.doc_id, document.summary, document.detailed_description) for document in dataset.docs_iter()], columns=[\"doc_id\", \"summary\", \"detailed_description\"])\n",
    "    \n",
    "dataset_df.head()"
   ]
  },
  {
   "cell_type": "markdown",
   "metadata": {},
   "source": [
    "## Query results"
   ]
  },
  {
   "cell_type": "code",
   "execution_count": 7,
   "metadata": {},
   "outputs": [
    {
     "data": {
      "text/html": [
       "<div>\n",
       "<style scoped>\n",
       "    .dataframe tbody tr th:only-of-type {\n",
       "        vertical-align: middle;\n",
       "    }\n",
       "\n",
       "    .dataframe tbody tr th {\n",
       "        vertical-align: top;\n",
       "    }\n",
       "\n",
       "    .dataframe thead th {\n",
       "        text-align: right;\n",
       "    }\n",
       "</style>\n",
       "<table border=\"1\" class=\"dataframe\">\n",
       "  <thead>\n",
       "    <tr style=\"text-align: right;\">\n",
       "      <th></th>\n",
       "      <th>doc_id</th>\n",
       "      <th>score</th>\n",
       "      <th>query_id</th>\n",
       "    </tr>\n",
       "  </thead>\n",
       "  <tbody>\n",
       "    <tr>\n",
       "      <th>0</th>\n",
       "      <td>NCT00003176</td>\n",
       "      <td>121.182970</td>\n",
       "      <td>1</td>\n",
       "    </tr>\n",
       "    <tr>\n",
       "      <th>1</th>\n",
       "      <td>NCT03633552</td>\n",
       "      <td>118.128870</td>\n",
       "      <td>1</td>\n",
       "    </tr>\n",
       "    <tr>\n",
       "      <th>2</th>\n",
       "      <td>NCT00968240</td>\n",
       "      <td>115.933230</td>\n",
       "      <td>1</td>\n",
       "    </tr>\n",
       "    <tr>\n",
       "      <th>3</th>\n",
       "      <td>NCT03896568</td>\n",
       "      <td>109.383545</td>\n",
       "      <td>1</td>\n",
       "    </tr>\n",
       "    <tr>\n",
       "      <th>4</th>\n",
       "      <td>NCT02942264</td>\n",
       "      <td>109.161380</td>\n",
       "      <td>1</td>\n",
       "    </tr>\n",
       "  </tbody>\n",
       "</table>\n",
       "</div>"
      ],
      "text/plain": [
       "        doc_id       score  query_id\n",
       "0  NCT00003176  121.182970         1\n",
       "1  NCT03633552  118.128870         1\n",
       "2  NCT00968240  115.933230         1\n",
       "3  NCT03896568  109.383545         1\n",
       "4  NCT02942264  109.161380         1"
      ]
     },
     "execution_count": 7,
     "metadata": {},
     "output_type": "execute_result"
    }
   ],
   "source": [
    "ES_query_results = {}\n",
    "\n",
    "for filename in os.listdir(\"data/ES_outputs\"):\n",
    "\n",
    "    query_id = str(filename.split(\".\")[0])\n",
    "\n",
    "    ES_query_results[query_id] = pd.read_csv(f\"data/ES_outputs/{filename}\", header=None, names=['doc_id', 'score'])\n",
    "    ES_query_results[query_id][\"query_id\"] = query_id\n",
    "    ES_query_results[query_id][\"query_id\"] = ES_query_results[query_id][\"query_id\"].astype(int)\n",
    "\n",
    "ES_query_results[\"1\"].head()"
   ]
  },
  {
   "cell_type": "markdown",
   "metadata": {},
   "source": [
    "## Join dataset to query results and relevance"
   ]
  },
  {
   "cell_type": "code",
   "execution_count": 8,
   "metadata": {},
   "outputs": [
    {
     "data": {
      "text/html": [
       "<div>\n",
       "<style scoped>\n",
       "    .dataframe tbody tr th:only-of-type {\n",
       "        vertical-align: middle;\n",
       "    }\n",
       "\n",
       "    .dataframe tbody tr th {\n",
       "        vertical-align: top;\n",
       "    }\n",
       "\n",
       "    .dataframe thead th {\n",
       "        text-align: right;\n",
       "    }\n",
       "</style>\n",
       "<table border=\"1\" class=\"dataframe\">\n",
       "  <thead>\n",
       "    <tr style=\"text-align: right;\">\n",
       "      <th></th>\n",
       "      <th>doc_id</th>\n",
       "      <th>score</th>\n",
       "      <th>query_id</th>\n",
       "      <th>summary</th>\n",
       "      <th>detailed_description</th>\n",
       "      <th>unknown</th>\n",
       "      <th>relevance</th>\n",
       "    </tr>\n",
       "  </thead>\n",
       "  <tbody>\n",
       "    <tr>\n",
       "      <th>0</th>\n",
       "      <td>NCT00003176</td>\n",
       "      <td>121.182970</td>\n",
       "      <td>1</td>\n",
       "      <td>\\n    \\n      RATIONALE: Drugs used in chemoth...</td>\n",
       "      <td>\\n    \\n      OBJECTIVES: I. Evaluate the acti...</td>\n",
       "      <td>0.0</td>\n",
       "      <td>1.0</td>\n",
       "    </tr>\n",
       "    <tr>\n",
       "      <th>1</th>\n",
       "      <td>NCT03633552</td>\n",
       "      <td>118.128870</td>\n",
       "      <td>1</td>\n",
       "      <td>\\n    \\n      This is a phase III, non-blinded...</td>\n",
       "      <td>\\n    \\n      This study aimed to compare the ...</td>\n",
       "      <td>0.0</td>\n",
       "      <td>1.0</td>\n",
       "    </tr>\n",
       "    <tr>\n",
       "      <th>2</th>\n",
       "      <td>NCT00968240</td>\n",
       "      <td>115.933230</td>\n",
       "      <td>1</td>\n",
       "      <td>\\n    \\n      The high-grade malignant brain t...</td>\n",
       "      <td>\\n    \\n      The current standard of care for...</td>\n",
       "      <td>0.0</td>\n",
       "      <td>1.0</td>\n",
       "    </tr>\n",
       "    <tr>\n",
       "      <th>3</th>\n",
       "      <td>NCT03896568</td>\n",
       "      <td>109.383545</td>\n",
       "      <td>1</td>\n",
       "      <td>\\n    \\n      This phase I trial studies best ...</td>\n",
       "      <td>\\n    \\n      PRIMARY OBJECTIVES:\\r\\n\\r\\n     ...</td>\n",
       "      <td>0.0</td>\n",
       "      <td>1.0</td>\n",
       "    </tr>\n",
       "    <tr>\n",
       "      <th>4</th>\n",
       "      <td>NCT02942264</td>\n",
       "      <td>109.161380</td>\n",
       "      <td>1</td>\n",
       "      <td>\\n    \\n      Background:\\r\\n\\r\\n      Zotirac...</td>\n",
       "      <td>\\n    \\n      Background:\\r\\n\\r\\n        -  Zo...</td>\n",
       "      <td>0.0</td>\n",
       "      <td>1.0</td>\n",
       "    </tr>\n",
       "  </tbody>\n",
       "</table>\n",
       "</div>"
      ],
      "text/plain": [
       "        doc_id       score  query_id  \\\n",
       "0  NCT00003176  121.182970         1   \n",
       "1  NCT03633552  118.128870         1   \n",
       "2  NCT00968240  115.933230         1   \n",
       "3  NCT03896568  109.383545         1   \n",
       "4  NCT02942264  109.161380         1   \n",
       "\n",
       "                                             summary  \\\n",
       "0  \\n    \\n      RATIONALE: Drugs used in chemoth...   \n",
       "1  \\n    \\n      This is a phase III, non-blinded...   \n",
       "2  \\n    \\n      The high-grade malignant brain t...   \n",
       "3  \\n    \\n      This phase I trial studies best ...   \n",
       "4  \\n    \\n      Background:\\r\\n\\r\\n      Zotirac...   \n",
       "\n",
       "                                detailed_description  unknown  relevance  \n",
       "0  \\n    \\n      OBJECTIVES: I. Evaluate the acti...      0.0        1.0  \n",
       "1  \\n    \\n      This study aimed to compare the ...      0.0        1.0  \n",
       "2  \\n    \\n      The current standard of care for...      0.0        1.0  \n",
       "3  \\n    \\n      PRIMARY OBJECTIVES:\\r\\n\\r\\n     ...      0.0        1.0  \n",
       "4  \\n    \\n      Background:\\r\\n\\r\\n        -  Zo...      0.0        1.0  "
      ]
     },
     "execution_count": 8,
     "metadata": {},
     "output_type": "execute_result"
    }
   ],
   "source": [
    "for query_id, query_results in ES_query_results.items():\n",
    "    \n",
    "    ES_query_results[query_id] = ES_query_results[query_id].merge(dataset_df, how=\"left\", on=\"doc_id\")\n",
    "    ES_query_results[query_id] = ES_query_results[query_id].merge(query_relevance_df, how=\"left\", on=[\"doc_id\", \"query_id\"])\n",
    "\n",
    "ES_query_results[\"1\"].head()"
   ]
  },
  {
   "cell_type": "markdown",
   "metadata": {},
   "source": [
    "# Generate BM25 rankings"
   ]
  },
  {
   "cell_type": "markdown",
   "metadata": {},
   "source": [
    "## Index and rank BM25"
   ]
  },
  {
   "cell_type": "code",
   "execution_count": 31,
   "metadata": {},
   "outputs": [
    {
     "name": "stdout",
     "output_type": "stream",
     "text": [
      "68\n",
      "6\n",
      "54\n",
      "40\n",
      "41\n",
      "7\n",
      "55\n",
      "69\n",
      "43\n",
      "57\n",
      "5\n",
      "56\n",
      "4\n",
      "42\n",
      "46\n",
      "52\n",
      "1\n",
      "53\n",
      "47\n",
      "51\n",
      "3\n",
      "45\n",
      "44\n",
      "50\n",
      "2\n",
      "37\n",
      "23\n",
      "22\n",
      "36\n",
      "20\n",
      "34\n",
      "35\n",
      "21\n",
      "25\n",
      "31\n",
      "19\n",
      "18\n",
      "30\n",
      "24\n",
      "32\n",
      "26\n",
      "27\n",
      "33\n",
      "16\n",
      "17\n",
      "29\n",
      "15\n",
      "14\n",
      "28\n",
      "10\n",
      "38\n",
      "39\n",
      "11\n",
      "13\n",
      "12\n",
      "49\n",
      "75\n",
      "61\n",
      "60\n",
      "74\n",
      "48\n",
      "62\n",
      "63\n",
      "67\n",
      "73\n",
      "9\n",
      "8\n",
      "72\n",
      "66\n",
      "70\n",
      "64\n",
      "58\n",
      "59\n",
      "65\n",
      "71\n"
     ]
    }
   ],
   "source": [
    "for query_id, query_results in ES_query_results.items():\n",
    "    \n",
    "    print(query_id)\n",
    "    bm25 = BM25Okapi([document.split(\" \") for document in query_results[\"detailed_description\"].tolist()])\n",
    "    bm25Plus = BM25Plus([document.split(\" \") for document in query_results[\"detailed_description\"].tolist()])\n",
    "    bm25L = BM25L([document.split(\" \") for document in query_results[\"detailed_description\"].tolist()])\n",
    "\n",
    "    ES_query_results[query_id][\"bm25\"] = bm25.get_scores(queries_df[queries_df[\"id\"] == int(query_id)][\"query\"].values[0].split(\" \"))\n",
    "    ES_query_results[query_id][\"bm25Plus\"] = bm25Plus.get_scores(queries_df[queries_df[\"id\"] == int(query_id)][\"query\"].values[0].split(\" \"))\n",
    "    ES_query_results[query_id][\"bm25L\"] = bm25L.get_scores(queries_df[queries_df[\"id\"] == int(query_id)][\"query\"].values[0].split(\" \"))"
   ]
  },
  {
   "cell_type": "markdown",
   "metadata": {},
   "source": [
    "## Save results"
   ]
  },
  {
   "cell_type": "code",
   "execution_count": 32,
   "metadata": {},
   "outputs": [],
   "source": [
    "for query_id, query_results in ES_query_results.items():\n",
    "\n",
    "    query_results.to_csv(f\"data/BM25_results/{query_id}.csv\", header=True)"
   ]
  }
 ],
 "metadata": {
  "interpreter": {
   "hash": "b7394c793df7bf13f46fde09c0903ee1163ced0186177fd71751b9ab334625cc"
  },
  "kernelspec": {
   "display_name": "Python 3.8.2 ('venv': venv)",
   "language": "python",
   "name": "python3"
  },
  "language_info": {
   "codemirror_mode": {
    "name": "ipython",
    "version": 3
   },
   "file_extension": ".py",
   "mimetype": "text/x-python",
   "name": "python",
   "nbconvert_exporter": "python",
   "pygments_lexer": "ipython3",
   "version": "3.8.2"
  },
  "orig_nbformat": 4
 },
 "nbformat": 4,
 "nbformat_minor": 2
}
