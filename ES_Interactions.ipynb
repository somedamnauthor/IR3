{
 "cells": [
  {
   "cell_type": "markdown",
   "id": "def3c69a",
   "metadata": {},
   "source": [
    "# Setup"
   ]
  },
  {
   "cell_type": "markdown",
   "id": "fbb60e31",
   "metadata": {},
   "source": [
    "### Acquire Data"
   ]
  },
  {
   "cell_type": "code",
   "execution_count": 1,
   "id": "9307c3b0",
   "metadata": {},
   "outputs": [],
   "source": [
    "# pip install ir_datasets\n",
    "import ir_datasets\n",
    "dataset = ir_datasets.load(\"clinicaltrials/2021\")"
   ]
  },
  {
   "cell_type": "code",
   "execution_count": 23,
   "id": "19406948",
   "metadata": {},
   "outputs": [],
   "source": [
    "# for doc in dataset.docs_iter():\n",
    "#     doc # namedtuple<doc_id, title, condition, summary, detailed_description, eligibility>"
   ]
  },
  {
   "cell_type": "markdown",
   "id": "3580d068",
   "metadata": {},
   "source": [
    "### Install ES package, connect to ES service"
   ]
  },
  {
   "cell_type": "code",
   "execution_count": 5,
   "id": "4c1b6f16",
   "metadata": {},
   "outputs": [],
   "source": [
    "# !pip install elasticsearch==7.9.1\n",
    "# !pip install elasticsearch==7.17.3"
   ]
  },
  {
   "cell_type": "code",
   "execution_count": 2,
   "id": "2da8d086",
   "metadata": {},
   "outputs": [],
   "source": [
    "from elasticsearch import Elasticsearch\n",
    "es = Elasticsearch(HOST='http://localhost', PORT='9200')"
   ]
  },
  {
   "cell_type": "markdown",
   "id": "a617bda3",
   "metadata": {},
   "source": [
    "# Load Data into ElasticSearch"
   ]
  },
  {
   "cell_type": "code",
   "execution_count": 3,
   "id": "caada740",
   "metadata": {},
   "outputs": [],
   "source": [
    "#define mapping to store data\n",
    "mapping = {\n",
    "    \"settings\":\n",
    "    {\n",
    "        \"index\":\n",
    "        {\n",
    "            \"number_of_shards\":1,\n",
    "            \"number_of_replicas\":1\n",
    "        }\n",
    "    },\n",
    "    \"mappings\":\n",
    "    {\n",
    "        \"properties\":\n",
    "        {\n",
    "            \"content\":\n",
    "            {\n",
    "                \"type\":\"text\",\n",
    "                \"fielddata\":True,\n",
    "                \"term_vector\":\"with_positions_offsets_payloads\",\n",
    "                \"store\":True,\n",
    "                \"analyzer\":\"whitespace\"\n",
    "            }\n",
    "        }\n",
    "    }\n",
    "}\n"
   ]
  },
  {
   "cell_type": "code",
   "execution_count": 19,
   "id": "ec458f06",
   "metadata": {},
   "outputs": [
    {
     "name": "stdout",
     "output_type": "stream",
     "text": [
      "Create Index Response: {'acknowledged': True, 'shards_acknowledged': True, 'index': 'ir3'}\n"
     ]
    }
   ],
   "source": [
    "#Delete any previously created index named 'ir3'\n",
    "es.indices.delete(index='ir3', ignore=[404, 400])\n",
    "\n",
    "#Create index with the mapping defined\n",
    "response_createIndex = es.indices.create(index='ir3', body=mapping)\n",
    "print(\"Create Index Response:\",response_createIndex)"
   ]
  },
  {
   "cell_type": "code",
   "execution_count": null,
   "id": "05dc84cb",
   "metadata": {},
   "outputs": [],
   "source": [
    "#Load data into the index\n",
    "\n",
    "id = 0\n",
    "for doc in dataset.docs_iter():\n",
    "    es.index('ir3', id=id, body=doc)\n",
    "    id+=1"
   ]
  }
 ],
 "metadata": {
  "kernelspec": {
   "display_name": "Python 3.8.10 64-bit",
   "language": "python",
   "name": "python3810jvsc74a57bd0916dbcbb3f70747c44a77c7bcd40155683ae19c65e1c03b4aa3499c5328201f1"
  },
  "language_info": {
   "codemirror_mode": {
    "name": "ipython",
    "version": 3
   },
   "file_extension": ".py",
   "mimetype": "text/x-python",
   "name": "python",
   "nbconvert_exporter": "python",
   "pygments_lexer": "ipython3",
   "version": "3.8.10"
  }
 },
 "nbformat": 4,
 "nbformat_minor": 5
}
