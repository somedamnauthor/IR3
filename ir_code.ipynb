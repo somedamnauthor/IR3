{
 "cells": [
  {
   "cell_type": "markdown",
   "id": "def3c69a",
   "metadata": {},
   "source": [
    "# Imports"
   ]
  },
  {
   "cell_type": "code",
   "execution_count": 1,
   "id": "9307c3b0",
   "metadata": {},
   "outputs": [],
   "source": [
    "import ir_datasets\n",
    "\n",
    "from datetime import datetime\n",
    "from elasticsearch import Elasticsearch"
   ]
  },
  {
   "cell_type": "markdown",
   "id": "4c404081",
   "metadata": {},
   "source": [
    "# Load dataset"
   ]
  },
  {
   "cell_type": "code",
   "execution_count": 2,
   "id": "97a21baf",
   "metadata": {},
   "outputs": [],
   "source": [
    "dataset = ir_datasets.load(\"clinicaltrials/2021\")"
   ]
  },
  {
   "cell_type": "code",
   "execution_count": 3,
   "id": "19406948",
   "metadata": {},
   "outputs": [
    {
     "name": "stderr",
     "output_type": "stream",
     "text": [
      "[INFO] [starting] building docstore\n",
      "[INFO] If you have a local copy of http://www.trec-cds.org/2021_data/ClinicalTrials.2021-04-27.part1.zip, you can symlink it here to avoid downloading it again: /Users/tusharpal/.ir_datasets/downloads/e12eb9a0d21452503b0ef8874c69f490\n",
      "[INFO] [starting] http://www.trec-cds.org/2021_data/ClinicalTrials.2021-04-27.part1.zip\n",
      "                                                                                \n",
      "\u001b[A                                                                                                            [INFO] [finished] http://www.trec-cds.org/2021_data/ClinicalTrials.2021-04-27.part1.zip: [00:27] [383MB] [14.2MB/s]\n",
      "[INFO] If you have a local copy of http://www.trec-cds.org/2021_data/ClinicalTrials.2021-04-27.part2.zip, you can symlink it here to avoid downloading it again: /Users/tusharpal/.ir_datasets/downloads/f6986125506434887a162f144ca4d9a2\n",
      "[INFO] [starting] http://www.trec-cds.org/2021_data/ClinicalTrials.2021-04-27.part2.zip\n",
      "                                                                                \n",
      "\u001b[A                                                                                                            [INFO] [finished] http://www.trec-cds.org/2021_data/ClinicalTrials.2021-04-27.part2.zip: [00:29] [378MB] [12.8MB/s]\n",
      "docs_iter:  22%|█████▏                 | 84217/375580 [03:28<12:02, 403.23doc/s]\n",
      "[INFO] [error] docs_iter: [03:28] [84217doc] [403.23doc/s]\n",
      "[INFO] [error] building docstore [03:29]\n"
     ]
    },
    {
     "ename": "KeyboardInterrupt",
     "evalue": "",
     "output_type": "error",
     "traceback": [
      "\u001b[0;31m---------------------------------------------------------------------------\u001b[0m",
      "\u001b[0;31mKeyboardInterrupt\u001b[0m                         Traceback (most recent call last)",
      "\u001b[1;32m/Users/tusharpal/Documents/Leiden/Information Retrieval/Assignments/IR3/ir_code.ipynb Cell 5'\u001b[0m in \u001b[0;36m<cell line: 1>\u001b[0;34m()\u001b[0m\n\u001b[0;32m----> <a href='vscode-notebook-cell:/Users/tusharpal/Documents/Leiden/Information%20Retrieval/Assignments/IR3/ir_code.ipynb#ch0000004?line=0'>1</a>\u001b[0m \u001b[39mfor\u001b[39;00m doc \u001b[39min\u001b[39;00m dataset\u001b[39m.\u001b[39;49mdocs_iter():\n\u001b[1;32m      <a href='vscode-notebook-cell:/Users/tusharpal/Documents/Leiden/Information%20Retrieval/Assignments/IR3/ir_code.ipynb#ch0000004?line=1'>2</a>\u001b[0m     doc\n",
      "File \u001b[0;32m~/Documents/Leiden/Information Retrieval/Assignments/IR3/venv/lib/python3.8/site-packages/ir_datasets/datasets/clinicaltrials.py:54\u001b[0m, in \u001b[0;36mClinicalTrialsDocs.docs_iter\u001b[0;34m(self)\u001b[0m\n\u001b[1;32m     <a href='file:///Users/tusharpal/Documents/Leiden/Information%20Retrieval/Assignments/IR3/venv/lib/python3.8/site-packages/ir_datasets/datasets/clinicaltrials.py?line=52'>53</a>\u001b[0m \u001b[39mdef\u001b[39;00m \u001b[39mdocs_iter\u001b[39m(\u001b[39mself\u001b[39m):\n\u001b[0;32m---> <a href='file:///Users/tusharpal/Documents/Leiden/Information%20Retrieval/Assignments/IR3/venv/lib/python3.8/site-packages/ir_datasets/datasets/clinicaltrials.py?line=53'>54</a>\u001b[0m     \u001b[39mreturn\u001b[39;00m \u001b[39miter\u001b[39;49m(\u001b[39mself\u001b[39;49m\u001b[39m.\u001b[39;49mdocs_store())\n",
      "File \u001b[0;32m~/Documents/Leiden/Information Retrieval/Assignments/IR3/venv/lib/python3.8/site-packages/ir_datasets/indices/lz4_pickle.py:292\u001b[0m, in \u001b[0;36mPickleLz4FullStore.__iter__\u001b[0;34m(self)\u001b[0m\n\u001b[1;32m    <a href='file:///Users/tusharpal/Documents/Leiden/Information%20Retrieval/Assignments/IR3/venv/lib/python3.8/site-packages/ir_datasets/indices/lz4_pickle.py?line=290'>291</a>\u001b[0m \u001b[39mdef\u001b[39;00m \u001b[39m__iter__\u001b[39m(\u001b[39mself\u001b[39m):\n\u001b[0;32m--> <a href='file:///Users/tusharpal/Documents/Leiden/Information%20Retrieval/Assignments/IR3/venv/lib/python3.8/site-packages/ir_datasets/indices/lz4_pickle.py?line=291'>292</a>\u001b[0m     \u001b[39mself\u001b[39;49m\u001b[39m.\u001b[39;49mbuild()\n\u001b[1;32m    <a href='file:///Users/tusharpal/Documents/Leiden/Information%20Retrieval/Assignments/IR3/venv/lib/python3.8/site-packages/ir_datasets/indices/lz4_pickle.py?line=292'>293</a>\u001b[0m     \u001b[39mreturn\u001b[39;00m \u001b[39miter\u001b[39m(\u001b[39mself\u001b[39m\u001b[39m.\u001b[39mlookup)\n",
      "File \u001b[0;32m~/Documents/Leiden/Information Retrieval/Assignments/IR3/venv/lib/python3.8/site-packages/ir_datasets/indices/lz4_pickle.py:282\u001b[0m, in \u001b[0;36mPickleLz4FullStore.build\u001b[0;34m(self)\u001b[0m\n\u001b[1;32m    <a href='file:///Users/tusharpal/Documents/Leiden/Information%20Retrieval/Assignments/IR3/venv/lib/python3.8/site-packages/ir_datasets/indices/lz4_pickle.py?line=279'>280</a>\u001b[0m \u001b[39mif\u001b[39;00m callable(count_hint):\n\u001b[1;32m    <a href='file:///Users/tusharpal/Documents/Leiden/Information%20Retrieval/Assignments/IR3/venv/lib/python3.8/site-packages/ir_datasets/indices/lz4_pickle.py?line=280'>281</a>\u001b[0m     count_hint \u001b[39m=\u001b[39m count_hint() \u001b[39m# allows for deferred loading of metadata; should return an int or None\u001b[39;00m\n\u001b[0;32m--> <a href='file:///Users/tusharpal/Documents/Leiden/Information%20Retrieval/Assignments/IR3/venv/lib/python3.8/site-packages/ir_datasets/indices/lz4_pickle.py?line=281'>282</a>\u001b[0m \u001b[39mfor\u001b[39;00m doc \u001b[39min\u001b[39;00m _logger\u001b[39m.\u001b[39mpbar(\u001b[39mself\u001b[39m\u001b[39m.\u001b[39minit_iter_fn(), \u001b[39m'\u001b[39m\u001b[39mdocs_iter\u001b[39m\u001b[39m'\u001b[39m, unit\u001b[39m=\u001b[39m\u001b[39m'\u001b[39m\u001b[39mdoc\u001b[39m\u001b[39m'\u001b[39m, total\u001b[39m=\u001b[39mcount_hint):\n\u001b[1;32m    <a href='file:///Users/tusharpal/Documents/Leiden/Information%20Retrieval/Assignments/IR3/venv/lib/python3.8/site-packages/ir_datasets/indices/lz4_pickle.py?line=282'>283</a>\u001b[0m     trans\u001b[39m.\u001b[39madd(doc)\n",
      "File \u001b[0;32m~/Documents/Leiden/Information Retrieval/Assignments/IR3/venv/lib/python3.8/site-packages/ir_datasets/log.py:91\u001b[0m, in \u001b[0;36mLogger.pbar\u001b[0;34m(self, it, *args, **kwargs)\u001b[0m\n\u001b[1;32m     <a href='file:///Users/tusharpal/Documents/Leiden/Information%20Retrieval/Assignments/IR3/venv/lib/python3.8/site-packages/ir_datasets/log.py?line=88'>89</a>\u001b[0m pbar \u001b[39m=\u001b[39m ir_datasets\u001b[39m.\u001b[39mlazy_libs\u001b[39m.\u001b[39mtqdm()\u001b[39m.\u001b[39mtqdm(it, \u001b[39m*\u001b[39margs, \u001b[39m*\u001b[39m\u001b[39m*\u001b[39mkwargs)\n\u001b[1;32m     <a href='file:///Users/tusharpal/Documents/Leiden/Information%20Retrieval/Assignments/IR3/venv/lib/python3.8/site-packages/ir_datasets/log.py?line=89'>90</a>\u001b[0m \u001b[39mtry\u001b[39;00m:\n\u001b[0;32m---> <a href='file:///Users/tusharpal/Documents/Leiden/Information%20Retrieval/Assignments/IR3/venv/lib/python3.8/site-packages/ir_datasets/log.py?line=90'>91</a>\u001b[0m     \u001b[39myield from\u001b[39;00m pbar\n\u001b[1;32m     <a href='file:///Users/tusharpal/Documents/Leiden/Information%20Retrieval/Assignments/IR3/venv/lib/python3.8/site-packages/ir_datasets/log.py?line=91'>92</a>\u001b[0m \u001b[39mexcept\u001b[39;00m:\n\u001b[1;32m     <a href='file:///Users/tusharpal/Documents/Leiden/Information%20Retrieval/Assignments/IR3/venv/lib/python3.8/site-packages/ir_datasets/log.py?line=92'>93</a>\u001b[0m     \u001b[39mif\u001b[39;00m \u001b[39mnot\u001b[39;00m quiet:\n",
      "File \u001b[0;32m~/Documents/Leiden/Information Retrieval/Assignments/IR3/venv/lib/python3.8/site-packages/tqdm/std.py:1195\u001b[0m, in \u001b[0;36mtqdm.__iter__\u001b[0;34m(self)\u001b[0m\n\u001b[1;32m   <a href='file:///Users/tusharpal/Documents/Leiden/Information%20Retrieval/Assignments/IR3/venv/lib/python3.8/site-packages/tqdm/std.py?line=1191'>1192</a>\u001b[0m time \u001b[39m=\u001b[39m \u001b[39mself\u001b[39m\u001b[39m.\u001b[39m_time\n\u001b[1;32m   <a href='file:///Users/tusharpal/Documents/Leiden/Information%20Retrieval/Assignments/IR3/venv/lib/python3.8/site-packages/tqdm/std.py?line=1193'>1194</a>\u001b[0m \u001b[39mtry\u001b[39;00m:\n\u001b[0;32m-> <a href='file:///Users/tusharpal/Documents/Leiden/Information%20Retrieval/Assignments/IR3/venv/lib/python3.8/site-packages/tqdm/std.py?line=1194'>1195</a>\u001b[0m     \u001b[39mfor\u001b[39;00m obj \u001b[39min\u001b[39;00m iterable:\n\u001b[1;32m   <a href='file:///Users/tusharpal/Documents/Leiden/Information%20Retrieval/Assignments/IR3/venv/lib/python3.8/site-packages/tqdm/std.py?line=1195'>1196</a>\u001b[0m         \u001b[39myield\u001b[39;00m obj\n\u001b[1;32m   <a href='file:///Users/tusharpal/Documents/Leiden/Information%20Retrieval/Assignments/IR3/venv/lib/python3.8/site-packages/tqdm/std.py?line=1196'>1197</a>\u001b[0m         \u001b[39m# Update and possibly print the progressbar.\u001b[39;00m\n\u001b[1;32m   <a href='file:///Users/tusharpal/Documents/Leiden/Information%20Retrieval/Assignments/IR3/venv/lib/python3.8/site-packages/tqdm/std.py?line=1197'>1198</a>\u001b[0m         \u001b[39m# Note: does not call self.update(1) for speed optimisation.\u001b[39;00m\n",
      "File \u001b[0;32m~/Documents/Leiden/Information Retrieval/Assignments/IR3/venv/lib/python3.8/site-packages/ir_datasets/datasets/clinicaltrials.py:74\u001b[0m, in \u001b[0;36mClinicalTrialsDocs._docs_iter\u001b[0;34m(self)\u001b[0m\n\u001b[1;32m     <a href='file:///Users/tusharpal/Documents/Leiden/Information%20Retrieval/Assignments/IR3/venv/lib/python3.8/site-packages/ir_datasets/datasets/clinicaltrials.py?line=71'>72</a>\u001b[0m \u001b[39mif\u001b[39;00m \u001b[39mgetattr\u001b[39m(record, path_attr)\u001b[39m.\u001b[39mendswith(\u001b[39m'\u001b[39m\u001b[39m.xml\u001b[39m\u001b[39m'\u001b[39m):\n\u001b[1;32m     <a href='file:///Users/tusharpal/Documents/Leiden/Information%20Retrieval/Assignments/IR3/venv/lib/python3.8/site-packages/ir_datasets/datasets/clinicaltrials.py?line=72'>73</a>\u001b[0m     xml \u001b[39m=\u001b[39m extract(record)\u001b[39m.\u001b[39mread()\n\u001b[0;32m---> <a href='file:///Users/tusharpal/Documents/Leiden/Information%20Retrieval/Assignments/IR3/venv/lib/python3.8/site-packages/ir_datasets/datasets/clinicaltrials.py?line=73'>74</a>\u001b[0m     \u001b[39myield\u001b[39;00m \u001b[39mself\u001b[39;49m\u001b[39m.\u001b[39;49m_parse_doc(xml)\n",
      "File \u001b[0;32m~/Documents/Leiden/Information Retrieval/Assignments/IR3/venv/lib/python3.8/site-packages/ir_datasets/datasets/clinicaltrials.py:77\u001b[0m, in \u001b[0;36mClinicalTrialsDocs._parse_doc\u001b[0;34m(self, xml)\u001b[0m\n\u001b[1;32m     <a href='file:///Users/tusharpal/Documents/Leiden/Information%20Retrieval/Assignments/IR3/venv/lib/python3.8/site-packages/ir_datasets/datasets/clinicaltrials.py?line=75'>76</a>\u001b[0m \u001b[39mdef\u001b[39;00m \u001b[39m_parse_doc\u001b[39m(\u001b[39mself\u001b[39m, xml):\n\u001b[0;32m---> <a href='file:///Users/tusharpal/Documents/Leiden/Information%20Retrieval/Assignments/IR3/venv/lib/python3.8/site-packages/ir_datasets/datasets/clinicaltrials.py?line=76'>77</a>\u001b[0m     xml \u001b[39m=\u001b[39m ET\u001b[39m.\u001b[39;49mfromstring(xml)\n\u001b[1;32m     <a href='file:///Users/tusharpal/Documents/Leiden/Information%20Retrieval/Assignments/IR3/venv/lib/python3.8/site-packages/ir_datasets/datasets/clinicaltrials.py?line=77'>78</a>\u001b[0m     doc_id \u001b[39m=\u001b[39m \u001b[39m'\u001b[39m\u001b[39m'\u001b[39m\u001b[39m.\u001b[39mjoin(xml\u001b[39m.\u001b[39mfind(\u001b[39m'\u001b[39m\u001b[39m.//nct_id\u001b[39m\u001b[39m'\u001b[39m)\u001b[39m.\u001b[39mitertext())\n\u001b[1;32m     <a href='file:///Users/tusharpal/Documents/Leiden/Information%20Retrieval/Assignments/IR3/venv/lib/python3.8/site-packages/ir_datasets/datasets/clinicaltrials.py?line=78'>79</a>\u001b[0m     title \u001b[39m=\u001b[39m xml\u001b[39m.\u001b[39mfind(\u001b[39m'\u001b[39m\u001b[39m.//official_title\u001b[39m\u001b[39m'\u001b[39m)\n",
      "File \u001b[0;32m/Library/Developer/CommandLineTools/Library/Frameworks/Python3.framework/Versions/3.8/lib/python3.8/xml/etree/ElementTree.py:1320\u001b[0m, in \u001b[0;36mXML\u001b[0;34m(text, parser)\u001b[0m\n\u001b[1;32m   <a href='file:///Library/Developer/CommandLineTools/Library/Frameworks/Python3.framework/Versions/3.8/lib/python3.8/xml/etree/ElementTree.py?line=1317'>1318</a>\u001b[0m \u001b[39mif\u001b[39;00m \u001b[39mnot\u001b[39;00m parser:\n\u001b[1;32m   <a href='file:///Library/Developer/CommandLineTools/Library/Frameworks/Python3.framework/Versions/3.8/lib/python3.8/xml/etree/ElementTree.py?line=1318'>1319</a>\u001b[0m     parser \u001b[39m=\u001b[39m XMLParser(target\u001b[39m=\u001b[39mTreeBuilder())\n\u001b[0;32m-> <a href='file:///Library/Developer/CommandLineTools/Library/Frameworks/Python3.framework/Versions/3.8/lib/python3.8/xml/etree/ElementTree.py?line=1319'>1320</a>\u001b[0m parser\u001b[39m.\u001b[39;49mfeed(text)\n\u001b[1;32m   <a href='file:///Library/Developer/CommandLineTools/Library/Frameworks/Python3.framework/Versions/3.8/lib/python3.8/xml/etree/ElementTree.py?line=1320'>1321</a>\u001b[0m \u001b[39mreturn\u001b[39;00m parser\u001b[39m.\u001b[39mclose()\n",
      "\u001b[0;31mKeyboardInterrupt\u001b[0m: "
     ]
    }
   ],
   "source": [
    "for doc in dataset.docs_iter():\n",
    "    doc # namedtuple<doc_id, title, condition, summary, detailed_description, eligibility>"
   ]
  },
  {
   "cell_type": "markdown",
   "id": "3f2d6bd5",
   "metadata": {},
   "source": [
    "# Init elasticsearch connector"
   ]
  },
  {
   "cell_type": "code",
   "execution_count": null,
   "id": "b275fb6b",
   "metadata": {},
   "outputs": [],
   "source": [
    "es = Elasticsearch()"
   ]
  },
  {
   "cell_type": "markdown",
   "id": "6cdec453",
   "metadata": {},
   "source": [
    "# Test insert document"
   ]
  },
  {
   "cell_type": "code",
   "execution_count": 9,
   "id": "d5edc8a1",
   "metadata": {},
   "outputs": [
    {
     "name": "stdout",
     "output_type": "stream",
     "text": [
      "created\n",
      "{'author': 'kimchy', 'text': 'Elasticsearch: cool. bonsai cool.', 'timestamp': '2022-05-18T00:51:14.606821'}\n"
     ]
    },
    {
     "name": "stderr",
     "output_type": "stream",
     "text": [
      "/home/srishankar/.local/lib/python3.8/site-packages/elasticsearch/connection/base.py:190: ElasticsearchDeprecationWarning: Elasticsearch built-in security features are not enabled. Without authentication, your cluster could be accessible to anyone. See https://www.elastic.co/guide/en/elasticsearch/reference/7.17/security-minimal-setup.html to enable security.\n",
      "  warnings.warn(message, category=ElasticsearchDeprecationWarning)\n"
     ]
    },
    {
     "ename": "TypeError",
     "evalue": "search() got an unexpected keyword argument 'query'",
     "output_type": "error",
     "traceback": [
      "\u001b[0;31m---------------------------------------------------------------------------\u001b[0m",
      "\u001b[0;31mTypeError\u001b[0m                                 Traceback (most recent call last)",
      "Input \u001b[0;32mIn [9]\u001b[0m, in \u001b[0;36m<cell line: 20>\u001b[0;34m()\u001b[0m\n\u001b[1;32m     16\u001b[0m \u001b[38;5;28mprint\u001b[39m(resp[\u001b[38;5;124m'\u001b[39m\u001b[38;5;124m_source\u001b[39m\u001b[38;5;124m'\u001b[39m])\n\u001b[1;32m     18\u001b[0m es\u001b[38;5;241m.\u001b[39mindices\u001b[38;5;241m.\u001b[39mrefresh(index\u001b[38;5;241m=\u001b[39m\u001b[38;5;124m\"\u001b[39m\u001b[38;5;124mtest-index\u001b[39m\u001b[38;5;124m\"\u001b[39m)\n\u001b[0;32m---> 20\u001b[0m resp \u001b[38;5;241m=\u001b[39m \u001b[43mes\u001b[49m\u001b[38;5;241;43m.\u001b[39;49m\u001b[43msearch\u001b[49m\u001b[43m(\u001b[49m\u001b[43mindex\u001b[49m\u001b[38;5;241;43m=\u001b[39;49m\u001b[38;5;124;43m\"\u001b[39;49m\u001b[38;5;124;43mtest-index\u001b[39;49m\u001b[38;5;124;43m\"\u001b[39;49m\u001b[43m,\u001b[49m\u001b[43m \u001b[49m\u001b[43mquery\u001b[49m\u001b[38;5;241;43m=\u001b[39;49m\u001b[43m{\u001b[49m\u001b[38;5;124;43m\"\u001b[39;49m\u001b[38;5;124;43mmatch_all\u001b[39;49m\u001b[38;5;124;43m\"\u001b[39;49m\u001b[43m:\u001b[49m\u001b[43m \u001b[49m\u001b[43m{\u001b[49m\u001b[43m}\u001b[49m\u001b[43m}\u001b[49m\u001b[43m)\u001b[49m\n\u001b[1;32m     21\u001b[0m \u001b[38;5;28mprint\u001b[39m(\u001b[38;5;124m\"\u001b[39m\u001b[38;5;124mGot \u001b[39m\u001b[38;5;132;01m%d\u001b[39;00m\u001b[38;5;124m Hits:\u001b[39m\u001b[38;5;124m\"\u001b[39m \u001b[38;5;241m%\u001b[39m resp[\u001b[38;5;124m'\u001b[39m\u001b[38;5;124mhits\u001b[39m\u001b[38;5;124m'\u001b[39m][\u001b[38;5;124m'\u001b[39m\u001b[38;5;124mtotal\u001b[39m\u001b[38;5;124m'\u001b[39m][\u001b[38;5;124m'\u001b[39m\u001b[38;5;124mvalue\u001b[39m\u001b[38;5;124m'\u001b[39m])\n\u001b[1;32m     22\u001b[0m \u001b[38;5;28;01mfor\u001b[39;00m hit \u001b[38;5;129;01min\u001b[39;00m resp[\u001b[38;5;124m'\u001b[39m\u001b[38;5;124mhits\u001b[39m\u001b[38;5;124m'\u001b[39m][\u001b[38;5;124m'\u001b[39m\u001b[38;5;124mhits\u001b[39m\u001b[38;5;124m'\u001b[39m]:\n",
      "File \u001b[0;32m~/.local/lib/python3.8/site-packages/elasticsearch/client/utils.py:152\u001b[0m, in \u001b[0;36mquery_params.<locals>._wrapper.<locals>._wrapped\u001b[0;34m(*args, **kwargs)\u001b[0m\n\u001b[1;32m    150\u001b[0m     \u001b[38;5;28;01mif\u001b[39;00m p \u001b[38;5;129;01min\u001b[39;00m kwargs:\n\u001b[1;32m    151\u001b[0m         params[p] \u001b[38;5;241m=\u001b[39m kwargs\u001b[38;5;241m.\u001b[39mpop(p)\n\u001b[0;32m--> 152\u001b[0m \u001b[38;5;28;01mreturn\u001b[39;00m \u001b[43mfunc\u001b[49m\u001b[43m(\u001b[49m\u001b[38;5;241;43m*\u001b[39;49m\u001b[43margs\u001b[49m\u001b[43m,\u001b[49m\u001b[43m \u001b[49m\u001b[43mparams\u001b[49m\u001b[38;5;241;43m=\u001b[39;49m\u001b[43mparams\u001b[49m\u001b[43m,\u001b[49m\u001b[43m \u001b[49m\u001b[43mheaders\u001b[49m\u001b[38;5;241;43m=\u001b[39;49m\u001b[43mheaders\u001b[49m\u001b[43m,\u001b[49m\u001b[43m \u001b[49m\u001b[38;5;241;43m*\u001b[39;49m\u001b[38;5;241;43m*\u001b[39;49m\u001b[43mkwargs\u001b[49m\u001b[43m)\u001b[49m\n",
      "\u001b[0;31mTypeError\u001b[0m: search() got an unexpected keyword argument 'query'"
     ]
    }
   ],
   "source": [
    "#Test elasticsearch\n",
    "doc = {\n",
    "    'author': 'kimchy',\n",
    "    'text': 'Elasticsearch: cool. bonsai cool.',\n",
    "    'timestamp': datetime.now(),\n",
    "}\n",
    "resp = es.index(index=\"test-index\", id=1, body=doc)\n",
    "print(resp['result'])\n",
    "\n",
    "resp = es.get(index=\"test-index\", id=1)\n",
    "print(resp['_source'])\n",
    "\n",
    "es.indices.refresh(index=\"test-index\")\n",
    "\n",
    "resp = es.search(index=\"test-index\", query={\"match_all\": {}})\n",
    "print(\"Got %d Hits:\" % resp['hits']['total']['value'])\n",
    "for hit in resp['hits']['hits']:\n",
    "    print(\"%(timestamp)s %(author)s: %(text)s\" % hit[\"_source\"])"
   ]
  }
 ],
 "metadata": {
  "interpreter": {
   "hash": "b7394c793df7bf13f46fde09c0903ee1163ced0186177fd71751b9ab334625cc"
  },
  "kernelspec": {
   "display_name": "Python 3.8.2 ('venv': venv)",
   "language": "python",
   "name": "python3"
  },
  "language_info": {
   "codemirror_mode": {
    "name": "ipython",
    "version": 3
   },
   "file_extension": ".py",
   "mimetype": "text/x-python",
   "name": "python",
   "nbconvert_exporter": "python",
   "pygments_lexer": "ipython3",
   "version": "3.8.2"
  }
 },
 "nbformat": 4,
 "nbformat_minor": 5
}
