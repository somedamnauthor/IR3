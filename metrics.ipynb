{
 "cells": [
  {
   "cell_type": "markdown",
   "metadata": {},
   "source": [
    "# Imports"
   ]
  },
  {
   "cell_type": "code",
   "execution_count": 31,
   "metadata": {},
   "outputs": [],
   "source": [
    "import pandas as pd\n",
    "import numpy as np\n",
    "import os\n",
    "\n",
    "from sklearn.metrics import ndcg_score, precision_score\n",
    "from sklearn.preprocessing import LabelBinarizer"
   ]
  },
  {
   "cell_type": "markdown",
   "metadata": {},
   "source": [
    "# Load data"
   ]
  },
  {
   "cell_type": "code",
   "execution_count": 2,
   "metadata": {},
   "outputs": [],
   "source": [
    "BM25_results = {filename.split(\".\")[0]: pd.read_csv(f\"data/BM25_results/{filename}\", index_col=0, header=0) for filename in os.listdir(\"data/BM25_results/\")}"
   ]
  },
  {
   "cell_type": "code",
   "execution_count": 3,
   "metadata": {},
   "outputs": [
    {
     "data": {
      "text/html": [
       "<div>\n",
       "<style scoped>\n",
       "    .dataframe tbody tr th:only-of-type {\n",
       "        vertical-align: middle;\n",
       "    }\n",
       "\n",
       "    .dataframe tbody tr th {\n",
       "        vertical-align: top;\n",
       "    }\n",
       "\n",
       "    .dataframe thead th {\n",
       "        text-align: right;\n",
       "    }\n",
       "</style>\n",
       "<table border=\"1\" class=\"dataframe\">\n",
       "  <thead>\n",
       "    <tr style=\"text-align: right;\">\n",
       "      <th></th>\n",
       "      <th>doc_id</th>\n",
       "      <th>score</th>\n",
       "      <th>query_id</th>\n",
       "      <th>summary</th>\n",
       "      <th>detailed_description</th>\n",
       "      <th>unknown</th>\n",
       "      <th>relevance</th>\n",
       "      <th>bm25</th>\n",
       "      <th>bm25Plus</th>\n",
       "      <th>bm25L</th>\n",
       "    </tr>\n",
       "  </thead>\n",
       "  <tbody>\n",
       "    <tr>\n",
       "      <th>0</th>\n",
       "      <td>NCT00003176</td>\n",
       "      <td>121.182970</td>\n",
       "      <td>1</td>\n",
       "      <td>\\n    \\n      RATIONALE: Drugs used in chemoth...</td>\n",
       "      <td>\\n    \\n      OBJECTIVES: I. Evaluate the acti...</td>\n",
       "      <td>0.0</td>\n",
       "      <td>1.0</td>\n",
       "      <td>178.913627</td>\n",
       "      <td>366.642656</td>\n",
       "      <td>301.413865</td>\n",
       "    </tr>\n",
       "    <tr>\n",
       "      <th>1</th>\n",
       "      <td>NCT03633552</td>\n",
       "      <td>118.128870</td>\n",
       "      <td>1</td>\n",
       "      <td>\\n    \\n      This is a phase III, non-blinded...</td>\n",
       "      <td>\\n    \\n      This study aimed to compare the ...</td>\n",
       "      <td>0.0</td>\n",
       "      <td>1.0</td>\n",
       "      <td>191.140627</td>\n",
       "      <td>375.016619</td>\n",
       "      <td>163.067224</td>\n",
       "    </tr>\n",
       "    <tr>\n",
       "      <th>2</th>\n",
       "      <td>NCT00968240</td>\n",
       "      <td>115.933230</td>\n",
       "      <td>1</td>\n",
       "      <td>\\n    \\n      The high-grade malignant brain t...</td>\n",
       "      <td>\\n    \\n      The current standard of care for...</td>\n",
       "      <td>0.0</td>\n",
       "      <td>1.0</td>\n",
       "      <td>185.792705</td>\n",
       "      <td>364.606073</td>\n",
       "      <td>306.646563</td>\n",
       "    </tr>\n",
       "    <tr>\n",
       "      <th>3</th>\n",
       "      <td>NCT03896568</td>\n",
       "      <td>109.383545</td>\n",
       "      <td>1</td>\n",
       "      <td>\\n    \\n      This phase I trial studies best ...</td>\n",
       "      <td>\\n    \\n      PRIMARY OBJECTIVES:\\r\\n\\r\\n     ...</td>\n",
       "      <td>0.0</td>\n",
       "      <td>1.0</td>\n",
       "      <td>167.600015</td>\n",
       "      <td>353.394314</td>\n",
       "      <td>165.924104</td>\n",
       "    </tr>\n",
       "    <tr>\n",
       "      <th>4</th>\n",
       "      <td>NCT02942264</td>\n",
       "      <td>109.161380</td>\n",
       "      <td>1</td>\n",
       "      <td>\\n    \\n      Background:\\r\\n\\r\\n      Zotirac...</td>\n",
       "      <td>\\n    \\n      Background:\\r\\n\\r\\n        -  Zo...</td>\n",
       "      <td>0.0</td>\n",
       "      <td>1.0</td>\n",
       "      <td>177.752863</td>\n",
       "      <td>357.818129</td>\n",
       "      <td>230.682298</td>\n",
       "    </tr>\n",
       "  </tbody>\n",
       "</table>\n",
       "</div>"
      ],
      "text/plain": [
       "        doc_id       score  query_id  \\\n",
       "0  NCT00003176  121.182970         1   \n",
       "1  NCT03633552  118.128870         1   \n",
       "2  NCT00968240  115.933230         1   \n",
       "3  NCT03896568  109.383545         1   \n",
       "4  NCT02942264  109.161380         1   \n",
       "\n",
       "                                             summary  \\\n",
       "0  \\n    \\n      RATIONALE: Drugs used in chemoth...   \n",
       "1  \\n    \\n      This is a phase III, non-blinded...   \n",
       "2  \\n    \\n      The high-grade malignant brain t...   \n",
       "3  \\n    \\n      This phase I trial studies best ...   \n",
       "4  \\n    \\n      Background:\\r\\n\\r\\n      Zotirac...   \n",
       "\n",
       "                                detailed_description  unknown  relevance  \\\n",
       "0  \\n    \\n      OBJECTIVES: I. Evaluate the acti...      0.0        1.0   \n",
       "1  \\n    \\n      This study aimed to compare the ...      0.0        1.0   \n",
       "2  \\n    \\n      The current standard of care for...      0.0        1.0   \n",
       "3  \\n    \\n      PRIMARY OBJECTIVES:\\r\\n\\r\\n     ...      0.0        1.0   \n",
       "4  \\n    \\n      Background:\\r\\n\\r\\n        -  Zo...      0.0        1.0   \n",
       "\n",
       "         bm25    bm25Plus       bm25L  \n",
       "0  178.913627  366.642656  301.413865  \n",
       "1  191.140627  375.016619  163.067224  \n",
       "2  185.792705  364.606073  306.646563  \n",
       "3  167.600015  353.394314  165.924104  \n",
       "4  177.752863  357.818129  230.682298  "
      ]
     },
     "execution_count": 3,
     "metadata": {},
     "output_type": "execute_result"
    }
   ],
   "source": [
    "BM25_results[\"1\"].head()"
   ]
  },
  {
   "cell_type": "markdown",
   "metadata": {},
   "source": [
    "# Calculate NDCG@5 and NDCG@10"
   ]
  },
  {
   "cell_type": "code",
   "execution_count": 41,
   "metadata": {},
   "outputs": [],
   "source": [
    "def get_ndcg_score(y_true, y_score, k):\n",
    "\n",
    "    return ndcg_score(y_true, y_score, k=k)\n",
    "\n",
    "    \n",
    "metrics = {}\n",
    "\n",
    "for query_id, query_results in BM25_results.items():\n",
    "\n",
    "    metrics[query_id] = {\n",
    "                            \"ndcg@5\": {},\n",
    "                            \"ndcg@10\": {}\n",
    "                        }\n",
    "\n",
    "    query_results[\"relevance\"].mask(query_results[\"relevance\"] == 2, 1, inplace=True)\n",
    "\n",
    "    y_true = np.asarray([query_results[\"relevance\"].fillna(0).tolist()])\n",
    "    \n",
    "    for variant in [\"bm25\", \"bm25Plus\", \"bm25L\"]:\n",
    "\n",
    "        y_score = np.asarray([query_results[[\"relevance\", variant]].sort_values(by=variant, ascending=False)[\"relevance\"].fillna(0).tolist()])\n",
    "        \n",
    "        metrics[query_id][\"ndcg@5\"][variant] = get_ndcg_score(y_true, y_score, 5)\n",
    "        metrics[query_id][\"ndcg@10\"][variant] = get_ndcg_score(y_true, y_score, 10)"
   ]
  },
  {
   "cell_type": "code",
   "execution_count": 42,
   "metadata": {},
   "outputs": [
    {
     "data": {
      "text/plain": [
       "{'ndcg@5': {'bm25': 0.04819277108433735,\n",
       "  'bm25Plus': 0.18072289156626503,\n",
       "  'bm25L': 0.036144578313253004},\n",
       " 'ndcg@10': {'bm25': 0.04819277108433735,\n",
       "  'bm25Plus': 0.18072289156626506,\n",
       "  'bm25L': 0.03614457831325301}}"
      ]
     },
     "execution_count": 42,
     "metadata": {},
     "output_type": "execute_result"
    }
   ],
   "source": []
  },
  {
   "cell_type": "code",
   "execution_count": null,
   "metadata": {},
   "outputs": [],
   "source": []
  }
 ],
 "metadata": {
  "interpreter": {
   "hash": "b7394c793df7bf13f46fde09c0903ee1163ced0186177fd71751b9ab334625cc"
  },
  "kernelspec": {
   "display_name": "Python 3.8.2 ('venv': venv)",
   "language": "python",
   "name": "python3"
  },
  "language_info": {
   "codemirror_mode": {
    "name": "ipython",
    "version": 3
   },
   "file_extension": ".py",
   "mimetype": "text/x-python",
   "name": "python",
   "nbconvert_exporter": "python",
   "pygments_lexer": "ipython3",
   "version": "3.8.2"
  },
  "orig_nbformat": 4
 },
 "nbformat": 4,
 "nbformat_minor": 2
}
